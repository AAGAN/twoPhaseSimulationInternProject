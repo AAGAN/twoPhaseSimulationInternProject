{
 "cells": [
  {
   "cell_type": "markdown",
   "metadata": {},
   "source": [
    "## Heat Transfer through pipe"
   ]
  },
  {
   "cell_type": "code",
   "execution_count": 25,
   "metadata": {},
   "outputs": [
    {
     "ename": "TypeError",
     "evalue": "unsupported operand type(s) for ** or pow(): 'OptimizeResult' and 'float'",
     "output_type": "error",
     "traceback": [
      "\u001b[1;31m---------------------------------------------------------------------------\u001b[0m",
      "\u001b[1;31mTypeError\u001b[0m                                 Traceback (most recent call last)",
      "\u001b[1;32m<ipython-input-25-f24439b906ae>\u001b[0m in \u001b[0;36m<module>\u001b[1;34m\u001b[0m\n\u001b[0;32m     76\u001b[0m     \u001b[1;32mreturn\u001b[0m \u001b[0m_T_s\u001b[0m\u001b[1;33m\u001b[0m\u001b[1;33m\u001b[0m\u001b[0m\n\u001b[0;32m     77\u001b[0m \u001b[1;33m\u001b[0m\u001b[0m\n\u001b[1;32m---> 78\u001b[1;33m \u001b[0mmain\u001b[0m\u001b[1;33m(\u001b[0m\u001b[1;36m52\u001b[0m\u001b[1;33m,\u001b[0m\u001b[1;36m25\u001b[0m\u001b[1;33m,\u001b[0m\u001b[1;36m25\u001b[0m\u001b[1;33m,\u001b[0m \u001b[1;36m0.72\u001b[0m\u001b[1;33m,\u001b[0m \u001b[1;36m0.71\u001b[0m\u001b[1;33m,\u001b[0m\u001b[1;36m1.41\u001b[0m\u001b[1;33m,\u001b[0m\u001b[1;36m285\u001b[0m\u001b[1;33m,\u001b[0m \u001b[1;36m305\u001b[0m\u001b[1;33m,\u001b[0m \u001b[1;36m1\u001b[0m\u001b[1;33m,\u001b[0m \u001b[1;36m0.0508\u001b[0m\u001b[1;33m,\u001b[0m \u001b[1;36m4\u001b[0m\u001b[1;33m,\u001b[0m \u001b[1;36m260\u001b[0m\u001b[1;33m,\u001b[0m \u001b[1;36m27\u001b[0m\u001b[1;33m*\u001b[0m\u001b[1;36m1e-6\u001b[0m\u001b[1;33m,\u001b[0m \u001b[1;36m18\u001b[0m\u001b[1;33m*\u001b[0m\u001b[1;36m1e-6\u001b[0m\u001b[1;33m)\u001b[0m\u001b[1;33m\u001b[0m\u001b[1;33m\u001b[0m\u001b[0m\n\u001b[0m",
      "\u001b[1;32m<ipython-input-25-f24439b906ae>\u001b[0m in \u001b[0;36mmain\u001b[1;34m(k_pipe, k_gas, k_air, Pr_gas, Pr_air, mdot, T0, T_amb, L, D, thick, e, mew_gas, kin_visc_air)\u001b[0m\n\u001b[0;32m     57\u001b[0m     \u001b[1;31m#for inside the pipe\u001b[0m\u001b[1;33m\u001b[0m\u001b[1;33m\u001b[0m\u001b[1;33m\u001b[0m\u001b[0m\n\u001b[0;32m     58\u001b[0m     \u001b[0m_Re\u001b[0m\u001b[1;33m=\u001b[0m \u001b[0mRe\u001b[0m\u001b[1;33m(\u001b[0m\u001b[0m_mdot\u001b[0m\u001b[1;33m,\u001b[0m\u001b[0m_D\u001b[0m\u001b[1;33m,\u001b[0m\u001b[0m_mew_gas\u001b[0m\u001b[1;33m)\u001b[0m\u001b[1;33m\u001b[0m\u001b[1;33m\u001b[0m\u001b[0m\n\u001b[1;32m---> 59\u001b[1;33m     \u001b[0m_f\u001b[0m\u001b[1;33m=\u001b[0m\u001b[0mfric_factor\u001b[0m\u001b[1;33m(\u001b[0m\u001b[0m_e\u001b[0m\u001b[1;33m,\u001b[0m\u001b[0m_D\u001b[0m\u001b[1;33m,\u001b[0m\u001b[0m_Re\u001b[0m\u001b[1;33m)\u001b[0m\u001b[1;33m\u001b[0m\u001b[1;33m\u001b[0m\u001b[0m\n\u001b[0m\u001b[0;32m     60\u001b[0m     \u001b[0m_Nu\u001b[0m\u001b[1;33m=\u001b[0m\u001b[0mNu_in\u001b[0m\u001b[1;33m(\u001b[0m\u001b[0m_f\u001b[0m\u001b[1;33m,\u001b[0m\u001b[0m_Re\u001b[0m\u001b[1;33m,\u001b[0m\u001b[0m_Pr_gas\u001b[0m\u001b[1;33m)\u001b[0m\u001b[1;33m\u001b[0m\u001b[1;33m\u001b[0m\u001b[0m\n\u001b[0;32m     61\u001b[0m     \u001b[0mh_in\u001b[0m\u001b[1;33m=\u001b[0m \u001b[0mh\u001b[0m\u001b[1;33m(\u001b[0m\u001b[0m_Nu\u001b[0m\u001b[1;33m,\u001b[0m\u001b[0m_D\u001b[0m\u001b[1;33m,\u001b[0m\u001b[0m_k_gas\u001b[0m\u001b[1;33m)\u001b[0m\u001b[1;33m\u001b[0m\u001b[1;33m\u001b[0m\u001b[0m\n",
      "\u001b[1;32m<ipython-input-25-f24439b906ae>\u001b[0m in \u001b[0;36mfric_factor\u001b[1;34m(e, D, Re)\u001b[0m\n\u001b[0;32m     20\u001b[0m         \u001b[1;32mreturn\u001b[0m \u001b[1;33m(\u001b[0m\u001b[1;33m(\u001b[0m\u001b[1;36m1\u001b[0m\u001b[1;33m/\u001b[0m\u001b[0mf\u001b[0m\u001b[1;33m**\u001b[0m\u001b[1;36m0.5\u001b[0m\u001b[1;33m)\u001b[0m\u001b[1;33m+\u001b[0m\u001b[1;36m2.0\u001b[0m\u001b[1;33m*\u001b[0m\u001b[0mnp\u001b[0m\u001b[1;33m.\u001b[0m\u001b[0mlog\u001b[0m\u001b[1;33m(\u001b[0m\u001b[0m_e\u001b[0m\u001b[1;33m/\u001b[0m\u001b[0m_D\u001b[0m\u001b[1;33m/\u001b[0m\u001b[1;36m3.7\u001b[0m\u001b[1;33m+\u001b[0m\u001b[1;36m2.51\u001b[0m\u001b[1;33m/\u001b[0m\u001b[1;33m(\u001b[0m\u001b[0m_Re\u001b[0m\u001b[1;33m*\u001b[0m\u001b[0mf\u001b[0m\u001b[1;33m**\u001b[0m\u001b[1;36m0.5\u001b[0m\u001b[1;33m)\u001b[0m\u001b[1;33m)\u001b[0m\u001b[1;33m)\u001b[0m\u001b[1;33m\u001b[0m\u001b[1;33m\u001b[0m\u001b[0m\n\u001b[0;32m     21\u001b[0m     \u001b[0m_f\u001b[0m\u001b[1;33m=\u001b[0m \u001b[0mroot\u001b[0m\u001b[1;33m(\u001b[0m\u001b[0mequation\u001b[0m\u001b[1;33m,\u001b[0m \u001b[1;36m0.4\u001b[0m\u001b[1;33m,\u001b[0m \u001b[0mmethod\u001b[0m\u001b[1;33m=\u001b[0m\u001b[1;34m'hybr'\u001b[0m\u001b[1;33m)\u001b[0m\u001b[1;33m\u001b[0m\u001b[1;33m\u001b[0m\u001b[0m\n\u001b[1;32m---> 22\u001b[1;33m     \u001b[0mprint\u001b[0m \u001b[1;33m(\u001b[0m\u001b[1;34m'friction factor='\u001b[0m\u001b[1;33m,\u001b[0m\u001b[0m_f\u001b[0m\u001b[1;33m,\u001b[0m \u001b[1;34m\"error=\"\u001b[0m\u001b[1;33m,\u001b[0m\u001b[0mequation\u001b[0m\u001b[1;33m(\u001b[0m\u001b[0m_f\u001b[0m\u001b[1;33m)\u001b[0m\u001b[1;33m)\u001b[0m\u001b[1;33m\u001b[0m\u001b[1;33m\u001b[0m\u001b[0m\n\u001b[0m\u001b[0;32m     23\u001b[0m \u001b[1;33m\u001b[0m\u001b[0m\n\u001b[0;32m     24\u001b[0m     \u001b[1;32mreturn\u001b[0m \u001b[1;33m(\u001b[0m\u001b[0m_f\u001b[0m\u001b[1;33m)\u001b[0m\u001b[1;33m\u001b[0m\u001b[1;33m\u001b[0m\u001b[0m\n",
      "\u001b[1;32m<ipython-input-25-f24439b906ae>\u001b[0m in \u001b[0;36mequation\u001b[1;34m(f)\u001b[0m\n\u001b[0;32m     18\u001b[0m     \u001b[0m_Re\u001b[0m\u001b[1;33m=\u001b[0m\u001b[0mRe\u001b[0m\u001b[1;33m\u001b[0m\u001b[1;33m\u001b[0m\u001b[0m\n\u001b[0;32m     19\u001b[0m     \u001b[1;32mdef\u001b[0m \u001b[0mequation\u001b[0m\u001b[1;33m(\u001b[0m\u001b[0mf\u001b[0m\u001b[1;33m)\u001b[0m\u001b[1;33m:\u001b[0m\u001b[1;33m\u001b[0m\u001b[1;33m\u001b[0m\u001b[0m\n\u001b[1;32m---> 20\u001b[1;33m         \u001b[1;32mreturn\u001b[0m \u001b[1;33m(\u001b[0m\u001b[1;33m(\u001b[0m\u001b[1;36m1\u001b[0m\u001b[1;33m/\u001b[0m\u001b[0mf\u001b[0m\u001b[1;33m**\u001b[0m\u001b[1;36m0.5\u001b[0m\u001b[1;33m)\u001b[0m\u001b[1;33m+\u001b[0m\u001b[1;36m2.0\u001b[0m\u001b[1;33m*\u001b[0m\u001b[0mnp\u001b[0m\u001b[1;33m.\u001b[0m\u001b[0mlog\u001b[0m\u001b[1;33m(\u001b[0m\u001b[0m_e\u001b[0m\u001b[1;33m/\u001b[0m\u001b[0m_D\u001b[0m\u001b[1;33m/\u001b[0m\u001b[1;36m3.7\u001b[0m\u001b[1;33m+\u001b[0m\u001b[1;36m2.51\u001b[0m\u001b[1;33m/\u001b[0m\u001b[1;33m(\u001b[0m\u001b[0m_Re\u001b[0m\u001b[1;33m*\u001b[0m\u001b[0mf\u001b[0m\u001b[1;33m**\u001b[0m\u001b[1;36m0.5\u001b[0m\u001b[1;33m)\u001b[0m\u001b[1;33m)\u001b[0m\u001b[1;33m)\u001b[0m\u001b[1;33m\u001b[0m\u001b[1;33m\u001b[0m\u001b[0m\n\u001b[0m\u001b[0;32m     21\u001b[0m     \u001b[0m_f\u001b[0m\u001b[1;33m=\u001b[0m \u001b[0mroot\u001b[0m\u001b[1;33m(\u001b[0m\u001b[0mequation\u001b[0m\u001b[1;33m,\u001b[0m \u001b[1;36m0.4\u001b[0m\u001b[1;33m,\u001b[0m \u001b[0mmethod\u001b[0m\u001b[1;33m=\u001b[0m\u001b[1;34m'hybr'\u001b[0m\u001b[1;33m)\u001b[0m\u001b[1;33m\u001b[0m\u001b[1;33m\u001b[0m\u001b[0m\n\u001b[0;32m     22\u001b[0m     \u001b[0mprint\u001b[0m \u001b[1;33m(\u001b[0m\u001b[1;34m'friction factor='\u001b[0m\u001b[1;33m,\u001b[0m\u001b[0m_f\u001b[0m\u001b[1;33m,\u001b[0m \u001b[1;34m\"error=\"\u001b[0m\u001b[1;33m,\u001b[0m\u001b[0mequation\u001b[0m\u001b[1;33m(\u001b[0m\u001b[0m_f\u001b[0m\u001b[1;33m)\u001b[0m\u001b[1;33m)\u001b[0m\u001b[1;33m\u001b[0m\u001b[1;33m\u001b[0m\u001b[0m\n",
      "\u001b[1;31mTypeError\u001b[0m: unsupported operand type(s) for ** or pow(): 'OptimizeResult' and 'float'"
     ]
    }
   ],
   "source": [
    "#effective Heat transfer coefficient\n",
    "import numpy as np\n",
    "from scipy.optimize import root\n",
    "from scipy.optimize import fsolve\n",
    "\n",
    "#Reynold's number calculations\n",
    "def Re (mdot,D,mew_gas):\n",
    "    _mdot=mdot\n",
    "    _D=D\n",
    "    _mew_gas=mew_gas\n",
    "    _Re= 4*_mdot/(np.pi*_D*_mew_gas)\n",
    "    return _Re\n",
    "\n",
    "#for inside of pipe\n",
    "def fric_factor(e,D,Re):\n",
    "    _e=e\n",
    "    _D=D\n",
    "    _Re=Re\n",
    "    def equation(f):\n",
    "        return ((1/f**0.5)+2.0*np.log(_e/_D/3.7+2.51/(_Re*f**0.5)))\n",
    "    _f= root(equation, 0.4, method='hybr')\n",
    "    print ('friction factor=',_f, \"error=\",equation(_f))\n",
    "    \n",
    "    return (_f)\n",
    "\n",
    "def Nu_in(f, Re, Pr):\n",
    "    _f=f\n",
    "    _Re=Re\n",
    "    _Pr=Pr\n",
    "    Nu= ((_f/8 * (_Re-1000)*_Pr)/(1+12.7*(_f/8)**0.5*(_Pr**(2/3)-1))) #Gnielinski correlation, most eneralised for both conditions\n",
    "    return Nu\n",
    "\n",
    "def h(Nu,D,k_fluid):\n",
    "    _Nu=Nu\n",
    "    _D=D\n",
    "    _k_fluid=k_fluid\n",
    "    h = Nu*k_fluid/D\n",
    "    return h\n",
    "\n",
    "def main(k_pipe,k_gas,k_air, Pr_gas, Pr_air,mdot,T0, T_amb, L, D, thick, e, mew_gas, kin_visc_air):\n",
    "    _k_pipe=k_pipe\n",
    "    _k_gas=k_gas\n",
    "    _k_air=k_air\n",
    "    _Pr_gas=Pr_gas\n",
    "    _Pr_air=Pr_air\n",
    "    _mdot=mdot\n",
    "    _T0=T0\n",
    "    _T_amb=T_amb\n",
    "    _L=L\n",
    "    _D=D\n",
    "    _e=e\n",
    "    _thick=thick\n",
    "    _mew_gas=mew_gas\n",
    "    _kin_visc_air=kin_visc_air\n",
    "    _D_ext=D+2*_thick\n",
    "    g=9.81\n",
    "    #for inside the pipe\n",
    "    _Re= Re(_mdot,_D,_mew_gas)\n",
    "    _f=fric_factor(_e,_D,_Re)\n",
    "    _Nu=Nu_in(_f,_Re,_Pr_gas)\n",
    "    h_in= h(_Nu,_D,_k_gas)\n",
    "    \n",
    "    #for the pipe thickness\n",
    "    #h_thick= _k_pipe/_thick\n",
    "    \n",
    "    #for the outside of pipe\n",
    "    #_Gr= Gr(Ts,_T_amb, _D_ext,_kin_visc_air)\n",
    "    #_Nu_out=Nu_out(_Gr,_Pr_air)\n",
    "    #h_out= h(_Nu_out,_D_ext,_k_air)\n",
    "    \n",
    "    def sur_temp_equation(Ts):  #equation derived by considered the pipe as lump i.e.constant temperature throughout\n",
    "        return (((0.60+ 0.387*(((g*(1/(Ts+_T_amb))*(Ts-_T_amb)*_D_ext**3/_kin_visc_air**2))*_Pr_air)**(1/6)/(1+(0.559/_Pr_air)**(9/16))**(8/27))**2*_k_air/_D_ext)*(Ts-_T_amb)-h_in*(_T0-Ts))\n",
    "    _T_s=root(surf_temp_equation, 280)\n",
    "    print ('Surface temp=',_T_s,'error=',sur_temp_equation(_T_s))\n",
    "    \n",
    "    return _T_s\n",
    "\n",
    "main(52,25,25, 0.72, 0.71,1.41,285, 305, 1, 0.0508, 4, 260, 27*1e-6, 18*1e-6)"
   ]
  },
  {
   "cell_type": "code",
   "execution_count": 27,
   "metadata": {},
   "outputs": [
    {
     "ename": "TypeError",
     "evalue": "unsupported operand type(s) for ** or pow(): 'OptimizeResult' and 'float'",
     "output_type": "error",
     "traceback": [
      "\u001b[1;31m---------------------------------------------------------------------------\u001b[0m",
      "\u001b[1;31mTypeError\u001b[0m                                 Traceback (most recent call last)",
      "\u001b[1;32m<ipython-input-27-ca84cd0315cd>\u001b[0m in \u001b[0;36m<module>\u001b[1;34m\u001b[0m\n\u001b[0;32m     12\u001b[0m     \u001b[0mprint\u001b[0m \u001b[1;33m(\u001b[0m\u001b[1;34m'friction factor='\u001b[0m\u001b[1;33m,\u001b[0m\u001b[0m_f\u001b[0m\u001b[1;33m,\u001b[0m \u001b[1;34m\"error=\"\u001b[0m\u001b[1;33m,\u001b[0m\u001b[0mequation\u001b[0m\u001b[1;33m(\u001b[0m\u001b[0m_f\u001b[0m\u001b[1;33m)\u001b[0m\u001b[1;33m)\u001b[0m\u001b[1;33m\u001b[0m\u001b[1;33m\u001b[0m\u001b[0m\n\u001b[0;32m     13\u001b[0m \u001b[1;33m\u001b[0m\u001b[0m\n\u001b[1;32m---> 14\u001b[1;33m \u001b[0m_friction\u001b[0m \u001b[1;33m=\u001b[0m \u001b[0mfric_factor\u001b[0m\u001b[1;33m(\u001b[0m\u001b[1;36m260\u001b[0m\u001b[1;33m,\u001b[0m\u001b[1;36m0.05\u001b[0m\u001b[1;33m,\u001b[0m\u001b[1;36m100000\u001b[0m\u001b[1;33m)\u001b[0m\u001b[1;33m\u001b[0m\u001b[1;33m\u001b[0m\u001b[0m\n\u001b[0m",
      "\u001b[1;32m<ipython-input-27-ca84cd0315cd>\u001b[0m in \u001b[0;36mfric_factor\u001b[1;34m(e, D, Re)\u001b[0m\n\u001b[0;32m     10\u001b[0m         \u001b[1;32mreturn\u001b[0m \u001b[1;33m(\u001b[0m\u001b[1;33m(\u001b[0m\u001b[1;36m1\u001b[0m\u001b[1;33m/\u001b[0m\u001b[0mf\u001b[0m\u001b[1;33m**\u001b[0m\u001b[1;36m0.5\u001b[0m\u001b[1;33m)\u001b[0m\u001b[1;33m+\u001b[0m\u001b[1;36m2.0\u001b[0m\u001b[1;33m*\u001b[0m\u001b[1;33m(\u001b[0m\u001b[0m_e\u001b[0m\u001b[1;33m/\u001b[0m\u001b[0m_D\u001b[0m\u001b[1;33m/\u001b[0m\u001b[1;36m3.7\u001b[0m\u001b[1;33m+\u001b[0m\u001b[1;36m2.51\u001b[0m\u001b[1;33m/\u001b[0m\u001b[1;33m(\u001b[0m\u001b[0m_Re\u001b[0m\u001b[1;33m*\u001b[0m\u001b[0mf\u001b[0m\u001b[1;33m**\u001b[0m\u001b[1;36m0.5\u001b[0m\u001b[1;33m)\u001b[0m\u001b[1;33m)\u001b[0m\u001b[1;33m)\u001b[0m\u001b[1;33m\u001b[0m\u001b[1;33m\u001b[0m\u001b[0m\n\u001b[0;32m     11\u001b[0m     \u001b[0m_f\u001b[0m\u001b[1;33m=\u001b[0m\u001b[0mroot\u001b[0m\u001b[1;33m(\u001b[0m\u001b[0mequation\u001b[0m\u001b[1;33m,\u001b[0m \u001b[1;36m0.004\u001b[0m\u001b[1;33m)\u001b[0m\u001b[1;33m\u001b[0m\u001b[1;33m\u001b[0m\u001b[0m\n\u001b[1;32m---> 12\u001b[1;33m     \u001b[0mprint\u001b[0m \u001b[1;33m(\u001b[0m\u001b[1;34m'friction factor='\u001b[0m\u001b[1;33m,\u001b[0m\u001b[0m_f\u001b[0m\u001b[1;33m,\u001b[0m \u001b[1;34m\"error=\"\u001b[0m\u001b[1;33m,\u001b[0m\u001b[0mequation\u001b[0m\u001b[1;33m(\u001b[0m\u001b[0m_f\u001b[0m\u001b[1;33m)\u001b[0m\u001b[1;33m)\u001b[0m\u001b[1;33m\u001b[0m\u001b[1;33m\u001b[0m\u001b[0m\n\u001b[0m\u001b[0;32m     13\u001b[0m \u001b[1;33m\u001b[0m\u001b[0m\n\u001b[0;32m     14\u001b[0m \u001b[0m_friction\u001b[0m \u001b[1;33m=\u001b[0m \u001b[0mfric_factor\u001b[0m\u001b[1;33m(\u001b[0m\u001b[1;36m260\u001b[0m\u001b[1;33m,\u001b[0m\u001b[1;36m0.05\u001b[0m\u001b[1;33m,\u001b[0m\u001b[1;36m100000\u001b[0m\u001b[1;33m)\u001b[0m\u001b[1;33m\u001b[0m\u001b[1;33m\u001b[0m\u001b[0m\n",
      "\u001b[1;32m<ipython-input-27-ca84cd0315cd>\u001b[0m in \u001b[0;36mequation\u001b[1;34m(f)\u001b[0m\n\u001b[0;32m      8\u001b[0m     \u001b[0m_Re\u001b[0m\u001b[1;33m=\u001b[0m\u001b[0mRe\u001b[0m\u001b[1;33m\u001b[0m\u001b[1;33m\u001b[0m\u001b[0m\n\u001b[0;32m      9\u001b[0m     \u001b[1;32mdef\u001b[0m \u001b[0mequation\u001b[0m\u001b[1;33m(\u001b[0m\u001b[0mf\u001b[0m\u001b[1;33m)\u001b[0m\u001b[1;33m:\u001b[0m\u001b[1;33m\u001b[0m\u001b[1;33m\u001b[0m\u001b[0m\n\u001b[1;32m---> 10\u001b[1;33m         \u001b[1;32mreturn\u001b[0m \u001b[1;33m(\u001b[0m\u001b[1;33m(\u001b[0m\u001b[1;36m1\u001b[0m\u001b[1;33m/\u001b[0m\u001b[0mf\u001b[0m\u001b[1;33m**\u001b[0m\u001b[1;36m0.5\u001b[0m\u001b[1;33m)\u001b[0m\u001b[1;33m+\u001b[0m\u001b[1;36m2.0\u001b[0m\u001b[1;33m*\u001b[0m\u001b[1;33m(\u001b[0m\u001b[0m_e\u001b[0m\u001b[1;33m/\u001b[0m\u001b[0m_D\u001b[0m\u001b[1;33m/\u001b[0m\u001b[1;36m3.7\u001b[0m\u001b[1;33m+\u001b[0m\u001b[1;36m2.51\u001b[0m\u001b[1;33m/\u001b[0m\u001b[1;33m(\u001b[0m\u001b[0m_Re\u001b[0m\u001b[1;33m*\u001b[0m\u001b[0mf\u001b[0m\u001b[1;33m**\u001b[0m\u001b[1;36m0.5\u001b[0m\u001b[1;33m)\u001b[0m\u001b[1;33m)\u001b[0m\u001b[1;33m)\u001b[0m\u001b[1;33m\u001b[0m\u001b[1;33m\u001b[0m\u001b[0m\n\u001b[0m\u001b[0;32m     11\u001b[0m     \u001b[0m_f\u001b[0m\u001b[1;33m=\u001b[0m\u001b[0mroot\u001b[0m\u001b[1;33m(\u001b[0m\u001b[0mequation\u001b[0m\u001b[1;33m,\u001b[0m \u001b[1;36m0.004\u001b[0m\u001b[1;33m)\u001b[0m\u001b[1;33m\u001b[0m\u001b[1;33m\u001b[0m\u001b[0m\n\u001b[0;32m     12\u001b[0m     \u001b[0mprint\u001b[0m \u001b[1;33m(\u001b[0m\u001b[1;34m'friction factor='\u001b[0m\u001b[1;33m,\u001b[0m\u001b[0m_f\u001b[0m\u001b[1;33m,\u001b[0m \u001b[1;34m\"error=\"\u001b[0m\u001b[1;33m,\u001b[0m\u001b[0mequation\u001b[0m\u001b[1;33m(\u001b[0m\u001b[0m_f\u001b[0m\u001b[1;33m)\u001b[0m\u001b[1;33m)\u001b[0m\u001b[1;33m\u001b[0m\u001b[1;33m\u001b[0m\u001b[0m\n",
      "\u001b[1;31mTypeError\u001b[0m: unsupported operand type(s) for ** or pow(): 'OptimizeResult' and 'float'"
     ]
    }
   ],
   "source": [
    "#checking friction fator function\n",
    "\n",
    "import numpy as np\n",
    "from scipy.optimize import root\n",
    "def fric_factor(e,D,Re):\n",
    "    _e=e\n",
    "    _D=D\n",
    "    _Re=Re\n",
    "    def equation(f):\n",
    "        return ((1/f**0.5)+2.0*np.log(_e/_D/3.7+2.51/(_Re*f**0.5)))\n",
    "    _f=root(equation, 0.004)\n",
    "    print ('friction factor=',_f, \"error=\",equation(_f))\n",
    "\n",
    "_friction = fric_factor(260,0.05,100000)"
   ]
  },
  {
   "cell_type": "code",
   "execution_count": 6,
   "metadata": {},
   "outputs": [
    {
     "name": "stdout",
     "output_type": "stream",
     "text": [
      "24.03313265903722\n"
     ]
    }
   ],
   "source": [
    "_e=260\n",
    "_D=0.50\n",
    "_Re=100000\n",
    "def equation(f):\n",
    "    return ((1/f**0.5)+2.0*np.log(_e/_D/3.7+2.51/(_Re*f**0.5)))\n",
    "error_frict= equation(0.005)\n",
    "print (error_frict)"
   ]
  },
  {
   "cell_type": "code",
   "execution_count": 23,
   "metadata": {},
   "outputs": [
    {
     "name": "stdout",
     "output_type": "stream",
     "text": [
      "2640793.1298210784\n"
     ]
    }
   ],
   "source": [
    "#Checking Reynolds number function\n",
    "\n",
    "def Re (mdot,D,mew_gas):\n",
    "    _mdot=mdot\n",
    "    _D=D\n",
    "    _mew_gas=mew_gas\n",
    "    _Re= 4*_mdot/(np.pi*_D*_mew_gas)\n",
    "    return _Re\n",
    "print(Re(1.4,0.025,27*1e-6))"
   ]
  },
  {
   "cell_type": "code",
   "execution_count": 35,
   "metadata": {},
   "outputs": [
    {
     "name": "stdout",
     "output_type": "stream",
     "text": [
      "-320000.00000000006\n"
     ]
    }
   ],
   "source": [
    "#Grashof function for outer coefficient of heat transfer\n",
    "def Grashof(Ts,T_amb,D_ext,kin_visc_air):\n",
    "    g=9.81\n",
    "    Tavg= (Ts+T_amb)/2\n",
    "    beta= 1/Tavg\n",
    "    Gr= g*beta*(Ts-T_amb)*D_ext**3/kin_visc_air**2\n",
    "    return Gr\n",
    "\n",
    "print (Grashof(250,295,0.04,18*1e-6))\n",
    "\n",
    "#Grashof number less than 10**8 shows its laminar which should be the case for Naural convection\n"
   ]
  },
  {
   "cell_type": "code",
   "execution_count": 36,
   "metadata": {},
   "outputs": [
    {
     "name": "stdout",
     "output_type": "stream",
     "text": [
      "9.616001082499588\n"
     ]
    }
   ],
   "source": [
    "def Nu_out(Gr, Pr):\n",
    "    _Gr=Gr\n",
    "    _Pr=Pr\n",
    "    Ra=_Gr*_Pr\n",
    "    Nu_avg= (0.60+ 0.387*Ra**(1/6)/(1+(0.559/_Pr)**(9/16))**(8/27))**2\n",
    "    return Nu_avg\n",
    "\n",
    "print(Nu_out(320000,0.7))"
   ]
  },
  {
   "cell_type": "code",
   "execution_count": 38,
   "metadata": {},
   "outputs": [
    {
     "name": "stdout",
     "output_type": "stream",
     "text": [
      "4.805\n"
     ]
    }
   ],
   "source": [
    "def h(Nu,D,k_fluid):\n",
    "    _Nu=Nu\n",
    "    _D=D\n",
    "    _k_fluid=k_fluid\n",
    "    h = Nu*k_fluid/D\n",
    "    return h\n",
    "\n",
    "print (h(9.61,0.040,0.02))"
   ]
  },
  {
   "cell_type": "code",
   "execution_count": 42,
   "metadata": {},
   "outputs": [
    {
     "name": "stdout",
     "output_type": "stream",
     "text": [
      "(2303.7654377812123-100.09986283915462j)\n"
     ]
    }
   ],
   "source": [
    "\n",
    "_T_amb=295\n",
    "_kin_visc_air=27*1e-6\n",
    "_Pr_air=0.7\n",
    "_k_air= 0.02\n",
    "_D_ext= 0.04\n",
    "_T0=240\n",
    "h_in=240\n",
    "g=9.81\n",
    "def sur_temp_equation(Ts):\n",
    "    return (((0.60+ 0.387*(((g*(1/(Ts+_T_amb))*(Ts-_T_amb)*_D_ext**3/_kin_visc_air**2))*_Pr_air)**(1/6)/(1+(0.559/_Pr_air)**(9/16))**(8/27))**2*_k_air/_D_ext)*(Ts-_T_amb)-h_in*(_T0-Ts))\n",
    "\n",
    "print (sur_temp_equation(250))"
   ]
  },
  {
   "cell_type": "code",
   "execution_count": null,
   "metadata": {},
   "outputs": [],
   "source": []
  }
 ],
 "metadata": {
  "kernelspec": {
   "display_name": "Python 3",
   "language": "python",
   "name": "python3"
  },
  "language_info": {
   "codemirror_mode": {
    "name": "ipython",
    "version": 3
   },
   "file_extension": ".py",
   "mimetype": "text/x-python",
   "name": "python",
   "nbconvert_exporter": "python",
   "pygments_lexer": "ipython3",
   "version": "3.6.5"
  }
 },
 "nbformat": 4,
 "nbformat_minor": 2
}
