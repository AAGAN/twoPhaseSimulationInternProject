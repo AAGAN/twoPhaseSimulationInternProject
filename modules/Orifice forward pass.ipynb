{
 "cells": [
  {
   "cell_type": "code",
   "execution_count": 3,
   "metadata": {},
   "outputs": [
    {
     "data": {
      "text/plain": [
       "(18601400.257133514, 20084392.644030124)"
      ]
     },
     "execution_count": 3,
     "metadata": {},
     "output_type": "execute_result"
    }
   ],
   "source": [
    "import numpy as np\n",
    "from scipy.optimize import fsolve,root\n",
    "## Function for Orifice \n",
    "\n",
    "#For forward pass (Things already known prior to calculation is the mdot, M1, P01, T01 i.e upstream parameters)\n",
    "\n",
    "def main_nozzle_forward(P01, T01, mdot,M, d_orifice, d_upstream_pipe,y, Mw_gas):\n",
    "    A_o= (np.pi*d_orifice**2/4) #Area of orifice\n",
    "    A_p= (np.pi*d_upstream_pipe**2/4) #Area of pipe \n",
    "\n",
    "    Cd= 0.61 #Coefficient of discharge, It will be less than 1\n",
    "    #y= 1.4  gamma value changes with the type of gas and conditions\n",
    "    #g=9.81 #gravitational constant\n",
    "    R= 8.3145\n",
    "    _Mw_gas = Mw_gas*0.001 #since input in grams, if in kg remove this\n",
    "    _R=R/_Mw_gas\n",
    "    B = np.sqrt (A_o/A_p) \n",
    "    \n",
    "    P_01=P01\n",
    "    T_01=T01\n",
    "    _m=mdot\n",
    "    \n",
    "    P_1=stat_P(P_01,M,y) #these equatiions need Mach number\n",
    "    T_1=stat_T(T_01,M,y)\n",
    "    \n",
    "    rho1= P_1/(_R*T_1)\n",
    "    \n",
    "    m_c= mass_critical(P_1, T_1, A_o,y,Cd,Mw_gas)\n",
    "    \n",
    "    if _m>m_c:\n",
    "        r_f = m_c/m #reduction factor\n",
    "        print(\"mass flow rate is greater than critical mass flow rate\")\n",
    "        print ('the output you got is the ratio needed to be multiplied to the original first m assumed') \n",
    "        return r_f\n",
    "    elif _m == m_c:\n",
    "        print ('Flow is choked')\n",
    "        P_2 = P_1*(2/(y+1))**(y/(y-1))\n",
    "        P_02 = P_01 + P_2 - P_1 # need to calculate this? or P_02 is P_2 critical itself?\n",
    "        return [P_2,P_02]\n",
    "    else: #no choking\n",
    "        A=A_o\n",
    "        _B=B\n",
    "        \n",
    "        def equation(P_2):\n",
    "            return (Cd*(1-(0.333+1.145*(_B**2+0.7*_B**5+ 12*_B**13))*(P_1-P_2)/(y*P_1))*A*(2*rho1*(P_1-P_2))**0.5-_m)\n",
    "\n",
    "        _P_2= root(equation, 0 , xtol=0.000001)\n",
    "        #print(\"Y\",(1-(0.333+1.145*(_B**2+0.7*_B**5+ 12*_B**13))*(P_1-_P_2)/(y*P_1)))\n",
    "        #print ('P2=',_P_2,'error=', equation(_P_2))\n",
    "        P_02 = P_01 + _P_2 - P_1\n",
    "        return _P_2[0],P_02[0] # we can even get M and P2 from here\n",
    "    \n",
    "\n",
    "    \n",
    "def mass_critical (P1,T1,A_o,y,Cd,Mw_gas):\n",
    "    P_1=P1\n",
    "    T_1=T1\n",
    "    _A_o=A_o\n",
    "    C_d=Cd\n",
    "    _y=y\n",
    "    R= 8.3145\n",
    "    _Mw_gas=Mw_gas*0.001\n",
    "    _R=R/Mw_gas\n",
    "    m_c= C_d*A_o*P_1*(2/_R*T_1)**0.5*(_y/(_y+1)*(2/(_y+1))**(2/(_y-1)))*0.5\n",
    "    return m_c\n",
    "\n",
    "def stat_P (P0, M, y):\n",
    "    P_0=P0\n",
    "    P_stat= P0/(1+(y-1)/2*M**2)**(y/(y-1))\n",
    "    return P_stat\n",
    "\n",
    "def stat_T(T0, M, y):\n",
    "    T_0=T0\n",
    "    T_stat= T_0/(1+(y-1)/2 *M**2)\n",
    "    return T_stat\n",
    "\n",
    "main_nozzle_forward(24500000, 295,0.8,0.3,0.006,0.6,1.4,28)"
   ]
  },
  {
   "cell_type": "code",
   "execution_count": 13,
   "metadata": {},
   "outputs": [
    {
     "data": {
      "text/plain": [
       "187893.93969880318"
      ]
     },
     "execution_count": 13,
     "metadata": {},
     "output_type": "execute_result"
    }
   ],
   "source": [
    "stat_P(200000,0.3,1.4)"
   ]
  },
  {
   "cell_type": "code",
   "execution_count": 14,
   "metadata": {},
   "outputs": [
    {
     "data": {
      "text/plain": [
       "294.6954813359528"
      ]
     },
     "execution_count": 14,
     "metadata": {},
     "output_type": "execute_result"
    }
   ],
   "source": [
    "stat_T(300,0.3,1.4)"
   ]
  },
  {
   "cell_type": "code",
   "execution_count": 18,
   "metadata": {},
   "outputs": [
    {
     "data": {
      "text/plain": [
       "20.67431821594228"
      ]
     },
     "execution_count": 18,
     "metadata": {},
     "output_type": "execute_result"
    }
   ],
   "source": [
    "mass_critical(200000,300,0.001,1.4,0.61)"
   ]
  },
  {
   "cell_type": "code",
   "execution_count": null,
   "metadata": {},
   "outputs": [],
   "source": []
  }
 ],
 "metadata": {
  "kernelspec": {
   "display_name": "Python 3",
   "language": "python",
   "name": "python3"
  },
  "language_info": {
   "codemirror_mode": {
    "name": "ipython",
    "version": 3
   },
   "file_extension": ".py",
   "mimetype": "text/x-python",
   "name": "python",
   "nbconvert_exporter": "python",
   "pygments_lexer": "ipython3",
   "version": "3.6.5"
  }
 },
 "nbformat": 4,
 "nbformat_minor": 2
}
