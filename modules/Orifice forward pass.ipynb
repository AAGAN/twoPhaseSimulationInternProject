{
 "cells": [
  {
   "cell_type": "code",
   "execution_count": 10,
   "metadata": {},
   "outputs": [],
   "source": [
    "import numpy as np\n",
    "from scipy.optimize import fsolve,root\n",
    "## Function for Orifice \n",
    "def mass_critical (P1,T1,A_o,y,Cd,Mw_gas):\n",
    "    P_1=P1\n",
    "    T_1=T1\n",
    "    _A_o=A_o\n",
    "    C_d=Cd\n",
    "    _y=y\n",
    "    R= 8.3145\n",
    "    _Mw_gas=Mw_gas\n",
    "    _R=R/_Mw_gas\n",
    "    m_c= C_d*A_o*P_1*(2/_R/T_1)**0.5*(_y/(_y+1)*(2/(_y+1))**(2/(_y-1)))**0.5\n",
    "    Cd*A_o*np.sqrt(1.4*rho0*P0*(2/(y+1))**((y+1)/(y-1)))\n",
    "    return m_c\n",
    "\n",
    "def stat_P (P0, M, y):\n",
    "    P_0=P0\n",
    "    P_stat= P0/(1+(y-1)/2*M**2)**(y/(y-1))\n",
    "    return P_stat\n",
    "\n",
    "def stat_T(T0, M, y):\n",
    "    T_0=T0\n",
    "    T_stat= T_0/(1+(y-1)/2 *M**2)\n",
    "    return T_stat\n",
    "\n",
    "#For forward pass (Things already known prior to calculation is the mdot, M1, P01, T01 i.e upstream parameters)\n",
    "\n",
    "def main_nozzle_forward(P01, T01, mdot,M, d_orifice, d_upstream_pipe,y, Mw_gas):\n",
    "    A_o= (np.pi*d_orifice**2/4) #Area of orifice\n",
    "    A_p= (np.pi*d_upstream_pipe**2/4) #Area of pipe \n",
    "\n",
    "    Cd= 0.61 #Coefficient of discharge, It will be less than 1\n",
    "    #y= 1.4  gamma value changes with the type of gas and conditions\n",
    "    #g=9.81 #gravitational constant\n",
    "    R= 8.3145\n",
    "    _Mw_gas = Mw_gas #since input in grams, if in kg remove this\n",
    "    _R=R/_Mw_gas\n",
    "    B = np.sqrt (A_o/A_p) \n",
    "    \n",
    "    P_01=P01\n",
    "    T_01=T01\n",
    "    _m=mdot\n",
    "    \n",
    "    P_1=stat_P(P_01,M,y) #these equatiions need Mach number\n",
    "    T_1=stat_T(T_01,M,y)\n",
    "    rho1= P_1/(_R*T_1)\n",
    "    \n",
    "    m_c= mass_critical(P_1, T_1, A_o,y,Cd,Mw_gas)\n",
    "    print(m_c)\n",
    "    if _m>m_c:\n",
    "        r_f = m_c/_m #reduction factor\n",
    "        print(\"mass flow rate is greater than critical mass flow rate\")\n",
    "        print ('the output you got is the ratio needed to be multiplied to the original first m assumed') \n",
    "        return r_f\n",
    "    elif _m == m_c:\n",
    "        print ('Flow is choked')\n",
    "        P_2 = P_1*(2/(y+1))**(y/(y-1))\n",
    "        P_02 = P_01 + P_2 - P_1 # need to calculate this? or P_02 is P_2 critical itself?\n",
    "        return [P_2,P_02]\n",
    "    else: #no choking\n",
    "        A=A_o\n",
    "        _B=B\n",
    "        \n",
    "        def equation(P_2):\n",
    "            return (Cd*(1-(0.333+1.145*(_B**2+0.7*_B**5+ 12*_B**13))*(P_1-P_2)/(y*P_1))*A*(2*rho1*(P_1-P_2))**0.5-_m)\n",
    "\n",
    "        _P_2= root(equation, P_01-1000)\n",
    "        #print(\"Y\",(1-(0.333+1.145*(_B**2+0.7*_B**5+ 12*_B**13))*(P_1-_P_2)/(y*P_1)))\n",
    "        #print ('P2=',_P_2,'error=', equation(_P_2))\n",
    "        P_02 = P_01 + _P_2['x'] - P_1\n",
    "        print('no choking',_P_2['x'],P_02)\n",
    "        #return _P_2,P_02#[0],P_02[0] # we can even get M and P2 from here\n",
    "    \n",
    "\n",
    "    \n",
    "\n"
   ]
  },
  {
   "cell_type": "code",
   "execution_count": 15,
   "metadata": {},
   "outputs": [
    {
     "name": "stdout",
     "output_type": "stream",
     "text": [
      "P_1 24500000.0\n",
      "T_1 305.0\n",
      "A_o 3.480020113514177e-05\n",
      "1.3039754744809569\n",
      "mass flow rate is greater than critical mass flow rate\n",
      "the output you got is the ratio needed to be multiplied to the original first m assumed\n"
     ]
    },
    {
     "data": {
      "text/plain": [
       "0.9314110532006835"
      ]
     },
     "execution_count": 15,
     "metadata": {},
     "output_type": "execute_result"
    }
   ],
   "source": [
    "#main_nozzle_forward(P01, T01, mdot,M, d_orifice, d_upstream_pipe,y, Mw_gas)\n",
    "main_nozzle_forward(24500000, 305, 1.4,0, 0.0066565, 0.006,1.4, 0.034)"
   ]
  },
  {
   "cell_type": "code",
   "execution_count": 27,
   "metadata": {},
   "outputs": [
    {
     "data": {
      "text/plain": [
       "1.3366740312839756"
      ]
     },
     "execution_count": 27,
     "metadata": {},
     "output_type": "execute_result"
    }
   ],
   "source": [
    "Cd = 0.61\n",
    "orificeD = 0.0066565\n",
    "A_o = np.pi * orificeD**2 / 4.0\n",
    "P0 = 24272766.670173936\n",
    "T0 = 294\n",
    "MW = 0.0340669\n",
    "R = 8.3145 / MW\n",
    "rho0 = P0 / (R*T0)\n",
    "\n",
    "y = 1.4614\n",
    "Cd*A_o*np.sqrt(y*rho0*P0*(2/(y+1))**((y+1)/(y-1)))"
   ]
  },
  {
   "cell_type": "code",
   "execution_count": 19,
   "metadata": {},
   "outputs": [
    {
     "data": {
      "text/plain": [
       "0.5282817877171742"
      ]
     },
     "execution_count": 19,
     "metadata": {},
     "output_type": "execute_result"
    }
   ],
   "source": [
    "(2/(y+1))**(y/(y-1))"
   ]
  },
  {
   "cell_type": "code",
   "execution_count": 53,
   "metadata": {},
   "outputs": [
    {
     "data": {
      "image/png": "[encoded data removed]",
      "text/plain": [
       "<Figure size 432x288 with 1 Axes>"
      ]
     },
     "metadata": {},
     "output_type": "display_data"
    }
   ],
   "source": [
    "import matplotlib.pyplot as plt\n",
    "Dp = 0.025\n",
    "Do = 0.0066565\n",
    "beta = Do/Dp\n",
    "K = 0.333+1.145*(beta**2+0.7*beta**5+12*beta**13)\n",
    "P1 = 24272766.670173936\n",
    "Cd = 0.61\n",
    "Ao = np.pi * Do**2 / 4.0\n",
    "CdA = Cd * Ao\n",
    "T1 = 295\n",
    "MW = 0.0340669\n",
    "R = 8.3145 / MW\n",
    "rho1 = P1 / R / T1\n",
    "L = 2 * rho1\n",
    "P2 = np.linspace(1e5, P1, 1000)\n",
    "y = 1.46\n",
    "def mdot(P2):\n",
    "    if Cd*Ao*np.sqrt(y*rho1*P1*(2/(y+1))**((y+1)/(y-1)))<CdA*(1-K*(P1-P2)/y/P1)*L**0.5*(P1-P2)**0.5:\n",
    "        return Cd*Ao*np.sqrt(y*rho1*P1*(2/(y+1))**((y+1)/(y-1)))\n",
    "    else:\n",
    "        return CdA*(1-K*(P1-P2)/y/P1)*L**0.5*(P1-P2)**0.5\n",
    "    \n",
    "_mdot = np.zeros(len(P2))\n",
    "for i in np.arange(0,len(P2)):\n",
    "    _mdot[i]=mdot(P2[i])\n",
    "plt.plot(P2/P1, _mdot)\n",
    "plt.grid()\n",
    "plt.show()"
   ]
  },
  {
   "cell_type": "code",
   "execution_count": 42,
   "metadata": {},
   "outputs": [
    {
     "data": {
      "text/plain": [
       "1000"
      ]
     },
     "execution_count": 42,
     "metadata": {},
     "output_type": "execute_result"
    }
   ],
   "source": [
    "len(P2)"
   ]
  },
  {
   "cell_type": "code",
   "execution_count": 46,
   "metadata": {},
   "outputs": [
    {
     "data": {
      "text/plain": [
       "5.0"
      ]
     },
     "execution_count": 46,
     "metadata": {},
     "output_type": "execute_result"
    }
   ],
   "source": [
    "_mdot[2]"
   ]
  },
  {
   "cell_type": "code",
   "execution_count": null,
   "metadata": {},
   "outputs": [],
   "source": []
  }
 ],
 "metadata": {
  "kernelspec": {
   "display_name": "Python 3",
   "language": "python",
   "name": "python3"
  },
  "language_info": {
   "codemirror_mode": {
    "name": "ipython",
    "version": 3
   },
   "file_extension": ".py",
   "mimetype": "text/x-python",
   "name": "python",
   "nbconvert_exporter": "python",
   "pygments_lexer": "ipython3",
   "version": "3.6.5"
  }
 },
 "nbformat": 4,
 "nbformat_minor": 2
}
