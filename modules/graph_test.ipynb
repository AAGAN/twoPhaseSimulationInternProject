{
 "cells": [
  {
   "cell_type": "code",
   "execution_count": 1,
   "metadata": {},
   "outputs": [],
   "source": [
    "from pipeNetwork import pipeNetwork\n",
    "from containerClass import container\n",
    "import numpy as np\n",
    "from scipy.integrate import solve_ivp\n",
    "import igraph\n",
    "from calcTw import calcTw\n",
    "from calcQ import calcQ\n",
    "from containerClass import container\n",
    "#from systemDefinitions import system,nodes,nodes1,pipeSections,pipeSections1\n",
    "from systemDefinitions import system,pipeSections,pipeSections1, pipeSections3,orificeDiam3,pipeSections4"
   ]
  },
  {
   "cell_type": "code",
   "execution_count": 2,
   "metadata": {},
   "outputs": [],
   "source": [
    "net = pipeNetwork()"
   ]
  },
  {
   "cell_type": "code",
   "execution_count": 3,
   "metadata": {},
   "outputs": [],
   "source": [
    "net.addSystem(system)"
   ]
  },
  {
   "cell_type": "code",
   "execution_count": 4,
   "metadata": {},
   "outputs": [],
   "source": [
    "net.addAllPipes(pipeSections3, orificeDiam3)"
   ]
  },
  {
   "cell_type": "code",
   "execution_count": 5,
   "metadata": {},
   "outputs": [
    {
     "name": "stdout",
     "output_type": "stream",
     "text": [
      "IGRAPH DN-T 15 14 -- \n",
      "+ attr: agent (g), cyl_pressure (g), cyl_size (g), cyl_valve_type (g), discharge_time (g), D (v), M (v), MFR (v), P (v), P0 (v), T (v), T0 (v), name (v), rho (v), type (v), x (v), y (v), z (v), Cpl (e), D (e), Dtrp (e), Elb (e), H (e), L (e), Ptap (e), SV (e), Sch (e), Stee (e), Ttee (e), f (e)\n",
      "[(0, 1), (1, 2), (2, 3), (3, 4), (4, 5), (4, 6), (5, 7), (5, 8), (8, 9), (7, 10), (10, 11), (7, 12), (12, 13), (6, 14)]\n",
      "(0, 11, 8)\n",
      "1 0 1 1 0\n",
      "2 1 2 1 1\n",
      "3 2 2 1 1\n",
      "4 3 2 1 1\n",
      "5 4 3 2 1\n",
      "6 5 3 2 1\n",
      "34 6 2 1 1\n",
      "7 7 3 2 1\n",
      "35 8 2 1 1\n",
      "305 9 1 0 1\n",
      "31 10 2 1 1\n",
      "301 11 1 0 1\n",
      "32 12 2 1 1\n",
      "302 13 1 0 1\n",
      "304 14 1 0 1\n"
     ]
    }
   ],
   "source": [
    "net.topoSummary()"
   ]
  },
  {
   "cell_type": "code",
   "execution_count": 6,
   "metadata": {},
   "outputs": [
    {
     "data": {
      "text/plain": [
       "[igraph.Vertex(<igraph.Graph object at 0x0000015EFC19D408>, 13, {'type': None, 'x': None, 'y': None, 'z': None, 'M': None, 'T0': None, 'T': None, 'P0': None, 'P': None, 'rho': None, 'D': 0.128, 'MFR': None, 'name': 302})]"
      ]
     },
     "execution_count": 6,
     "metadata": {},
     "output_type": "execute_result"
    }
   ],
   "source": [
    "net.t.vs[12].successors()"
   ]
  },
  {
   "cell_type": "code",
   "execution_count": 7,
   "metadata": {},
   "outputs": [
    {
     "name": "stdout",
     "output_type": "stream",
     "text": [
      "igraph.Vertex(<igraph.Graph object at 0x0000015EFC19D408>, 9, {'type': 'nozzle', 'x': None, 'y': None, 'z': None, 'M': None, 'T0': None, 'T': None, 'P0': None, 'P': None, 'rho': None, 'D': 0.25, 'MFR': None, 'name': 305})\n",
      "igraph.Vertex(<igraph.Graph object at 0x0000015EFC19D408>, 11, {'type': 'nozzle', 'x': None, 'y': None, 'z': None, 'M': None, 'T0': None, 'T': None, 'P0': None, 'P': None, 'rho': None, 'D': 0.28125, 'MFR': None, 'name': 301})\n",
      "igraph.Vertex(<igraph.Graph object at 0x0000015EFC19D408>, 13, {'type': 'nozzle', 'x': None, 'y': None, 'z': None, 'M': None, 'T0': None, 'T': None, 'P0': None, 'P': None, 'rho': None, 'D': 0.128, 'MFR': None, 'name': 302})\n",
      "igraph.Vertex(<igraph.Graph object at 0x0000015EFC19D408>, 14, {'type': 'nozzle', 'x': None, 'y': None, 'z': None, 'M': None, 'T0': None, 'T': None, 'P0': None, 'P': None, 'rho': None, 'D': 0.344, 'MFR': None, 'name': 304})\n"
     ]
    }
   ],
   "source": [
    "net.t.vs.select(_outdegree = 0)['type'] = 'nozzle'\n",
    "for i in net.t.vs.select(_outdegree = 0):\n",
    "    print(i)"
   ]
  },
  {
   "cell_type": "code",
   "execution_count": 8,
   "metadata": {},
   "outputs": [
    {
     "name": "stdout",
     "output_type": "stream",
     "text": [
      "igraph.Vertex(<igraph.Graph object at 0x0000015EFC19D408>, 4, {'type': 'tee', 'x': None, 'y': None, 'z': None, 'M': None, 'T0': None, 'T': None, 'P0': None, 'P': None, 'rho': None, 'D': 0, 'MFR': None, 'name': 5})\n",
      "igraph.Vertex(<igraph.Graph object at 0x0000015EFC19D408>, 5, {'type': 'tee', 'x': None, 'y': None, 'z': None, 'M': None, 'T0': None, 'T': None, 'P0': None, 'P': None, 'rho': None, 'D': 0, 'MFR': None, 'name': 6})\n",
      "igraph.Vertex(<igraph.Graph object at 0x0000015EFC19D408>, 7, {'type': 'tee', 'x': None, 'y': None, 'z': None, 'M': None, 'T0': None, 'T': None, 'P0': None, 'P': None, 'rho': None, 'D': 0, 'MFR': None, 'name': 7})\n"
     ]
    }
   ],
   "source": [
    "net.t.vs.select(_outdegree = 2)['type'] = 'tee'\n",
    "for i in net.t.vs.select(_outdegree = 2):\n",
    "    print(i)"
   ]
  },
  {
   "cell_type": "code",
   "execution_count": 9,
   "metadata": {},
   "outputs": [
    {
     "name": "stdout",
     "output_type": "stream",
     "text": [
      "igraph.Vertex(<igraph.Graph object at 0x0000015EFC19D408>, 0, {'type': 'tank', 'x': None, 'y': None, 'z': None, 'M': None, 'T0': None, 'T': None, 'P0': None, 'P': None, 'rho': None, 'D': 0, 'MFR': None, 'name': 1})\n"
     ]
    }
   ],
   "source": [
    "net.t.vs.select(_indegree = 0)['type'] = 'tank'\n",
    "for i in net.t.vs.select(_indegree = 0):\n",
    "    print(i)"
   ]
  },
  {
   "cell_type": "code",
   "execution_count": 10,
   "metadata": {},
   "outputs": [
    {
     "name": "stdout",
     "output_type": "stream",
     "text": [
      "igraph.Vertex(<igraph.Graph object at 0x0000015EFC19D408>, 1, {'type': None, 'x': None, 'y': None, 'z': None, 'M': None, 'T0': None, 'T': None, 'P0': None, 'P': None, 'rho': None, 'D': 0, 'MFR': None, 'name': 2})\n",
      "igraph.Vertex(<igraph.Graph object at 0x0000015EFC19D408>, 2, {'type': None, 'x': None, 'y': None, 'z': None, 'M': None, 'T0': None, 'T': None, 'P0': None, 'P': None, 'rho': None, 'D': 0, 'MFR': None, 'name': 3})\n",
      "igraph.Vertex(<igraph.Graph object at 0x0000015EFC19D408>, 3, {'type': None, 'x': None, 'y': None, 'z': None, 'M': None, 'T0': None, 'T': None, 'P0': None, 'P': None, 'rho': None, 'D': 0, 'MFR': None, 'name': 4})\n",
      "igraph.Vertex(<igraph.Graph object at 0x0000015EFC19D408>, 6, {'type': None, 'x': None, 'y': None, 'z': None, 'M': None, 'T0': None, 'T': None, 'P0': None, 'P': None, 'rho': None, 'D': 0, 'MFR': None, 'name': 34})\n",
      "igraph.Vertex(<igraph.Graph object at 0x0000015EFC19D408>, 8, {'type': None, 'x': None, 'y': None, 'z': None, 'M': None, 'T0': None, 'T': None, 'P0': None, 'P': None, 'rho': None, 'D': 0, 'MFR': None, 'name': 35})\n",
      "igraph.Vertex(<igraph.Graph object at 0x0000015EFC19D408>, 10, {'type': None, 'x': None, 'y': None, 'z': None, 'M': None, 'T0': None, 'T': None, 'P0': None, 'P': None, 'rho': None, 'D': 0, 'MFR': None, 'name': 31})\n",
      "igraph.Vertex(<igraph.Graph object at 0x0000015EFC19D408>, 12, {'type': None, 'x': None, 'y': None, 'z': None, 'M': None, 'T0': None, 'T': None, 'P0': None, 'P': None, 'rho': None, 'D': 0, 'MFR': None, 'name': 32})\n"
     ]
    }
   ],
   "source": [
    "for i in net.t.vs.select(_indegree = 1 , _outdegree = 1):\n",
    "    print(i)"
   ]
  },
  {
   "cell_type": "code",
   "execution_count": 11,
   "metadata": {},
   "outputs": [
    {
     "data": {
      "text/plain": [
       "1"
      ]
     },
     "execution_count": 11,
     "metadata": {},
     "output_type": "execute_result"
    }
   ],
   "source": [
    "net.t.edge_connectivity(0,3)"
   ]
  },
  {
   "cell_type": "code",
   "execution_count": 12,
   "metadata": {},
   "outputs": [
    {
     "data": {
      "text/plain": [
       "[0]"
      ]
     },
     "execution_count": 12,
     "metadata": {},
     "output_type": "execute_result"
    }
   ],
   "source": [
    "nozzles = net.t.vs.select(_outdegree = 0)\n",
    "nozzles.indices\n",
    "tanks = net.t.vs.select(_indegree = 0)\n",
    "tanks.indices"
   ]
  },
  {
   "cell_type": "code",
   "execution_count": 13,
   "metadata": {},
   "outputs": [],
   "source": [
    "firstTank = net.t.farthest_points(directed=True)[0]"
   ]
  },
  {
   "cell_type": "code",
   "execution_count": 14,
   "metadata": {},
   "outputs": [],
   "source": [
    "lastNozzle = net.t.farthest_points(directed=True)[1]"
   ]
  },
  {
   "cell_type": "code",
   "execution_count": 15,
   "metadata": {},
   "outputs": [],
   "source": [
    "commonNodes = []\n",
    "for node in net.t.vs:\n",
    "    Common = True\n",
    "    for noz in nozzles.indices:\n",
    "        for tank in tanks.indices:\n",
    "            if node.index != noz:\n",
    "                if net.t.edge_connectivity(node.index,noz)== 0:\n",
    "                    Common = False\n",
    "                    break\n",
    "            if node.index != tank:\n",
    "                if net.t.edge_connectivity(tank,node.index)==0:\n",
    "                    Common = False\n",
    "                    break\n",
    "    if Common == True:\n",
    "        commonNodes.append(node.index)"
   ]
  },
  {
   "cell_type": "code",
   "execution_count": 16,
   "metadata": {},
   "outputs": [
    {
     "data": {
      "text/plain": [
       "[0, 1, 2, 3, 4]"
      ]
     },
     "execution_count": 16,
     "metadata": {},
     "output_type": "execute_result"
    }
   ],
   "source": [
    "commonNodes"
   ]
  },
  {
   "cell_type": "code",
   "execution_count": 17,
   "metadata": {},
   "outputs": [],
   "source": [
    "def assignMFR(guess):\n",
    "    for noz in nozzles.indices:\n",
    "        net.t.vs[noz]['MFR'] = guess / len(nozzles)\n"
   ]
  },
  {
   "cell_type": "code",
   "execution_count": 20,
   "metadata": {},
   "outputs": [],
   "source": [
    "if len(commonNodes)>1:\n",
    "    commonNode = commonNodes[-1]\n",
    "else:\n",
    "    print(\"there should be a point between the tank and the rest of the system\")"
   ]
  },
  {
   "cell_type": "code",
   "execution_count": 21,
   "metadata": {},
   "outputs": [
    {
     "data": {
      "text/plain": [
       "4"
      ]
     },
     "execution_count": 21,
     "metadata": {},
     "output_type": "execute_result"
    }
   ],
   "source": [
    "commonNode"
   ]
  },
  {
   "cell_type": "code",
   "execution_count": 24,
   "metadata": {},
   "outputs": [
    {
     "data": {
      "text/plain": [
       "0"
      ]
     },
     "execution_count": 24,
     "metadata": {},
     "output_type": "execute_result"
    }
   ],
   "source": [
    "firstTank"
   ]
  },
  {
   "cell_type": "code",
   "execution_count": 92,
   "metadata": {},
   "outputs": [],
   "source": [
    "gamma = 1.4\n",
    "y = gamma\n",
    "def main_nozzle_forward(P01, T01, m, D_orifice):\n",
    "    A_o= (np.pi*D_orifice**2/4) #Area of orifice\n",
    "    A_p= (np.pi*(10*D_orifice)**2/4) #Area of pipe\n",
    "\n",
    "    Cd= 0.5 #Coefficient of discharge, It will be less than 1\n",
    "    y= 1.4  #gamma value changes with the type of gas and conditions\n",
    "    #g=9.81 #gravitational constant\n",
    "    R= 287.058 #for air\n",
    "    B = np.sqrt(A_o/A_p) \n",
    "    \n",
    "    P_01=P01\n",
    "    T_01=T01\n",
    "    _m=m\n",
    "    \n",
    "    P_1=stat_P(P_01) #these equatiions need Mach number\n",
    "    T_1=stat_T(T_01)\n",
    "    \n",
    "    m_c= mass_critical(P_1, T_1)\n",
    "    \n",
    "    if _m>m_c:\n",
    "        print ('Flow rate too high')\n",
    "        r_f = m_c/m #reduction factor\n",
    "        return r_f\n",
    "    elif _m == m_c:\n",
    "        print ('Flow is choked')\n",
    "        P_2 = P_1*(2/(y+1))**(y/(y-1))\n",
    "        P_02 = P_01 + P_2 - P_1 # need to calculate this? or P_02 is P_2 critical itself?\n",
    "        return (P_02)\n",
    "    else: #no choking\n",
    "        A=A_o\n",
    "        _B=B\n",
    "        from sympy.solvers import solve\n",
    "        from sympy import Symbol\n",
    "        P_2 = Symbol('P_2')\n",
    "        _P_2 =solve(Cd*(1-(0.333+1.145*(_B**2+0.7*_B**5+ 12*_B**13))*(P_1-P_2)/(y*P_1))*A*(2*rho1*(P_1-P_2))**0.5-_m, P_2)\n",
    "        #This might give complex results with imaginary part of very small value in -16 orders, find way to eliminate that.\n",
    "        P_02 = P_01 + P_2 - P_1\n",
    "        return (P_02) # we can even get M and P2 from here\n",
    "    \n",
    "def mass_crtical(P1,T1):\n",
    "    P_1=P1\n",
    "    T_1=T1\n",
    "    y=gamma\n",
    "    m_c= Cd*_A*P_1*(2/R*T_1)**0.5*(y/(y+1)*(2/(y+1))**(2/(y-1)))*0.5\n",
    "    return m_c\n",
    "\n",
    "def stat_P(P0,M):\n",
    "    P_0=P0\n",
    "    P_stat= P0/(1+(y-1)/2*M**2)**(y/(y-1))\n",
    "    return P_stat\n",
    "\n",
    "def stat_T(T0):\n",
    "    T_0=T0\n",
    "    T_stat= T_0/((1+(y-1)/2 *M**2)**-1)\n",
    "    return T_stat\n",
    "\n",
    "#externally calculated Expansion factor, can be used if required.\n",
    "\n",
    "def Exp(B, P1, P2):\n",
    "    _B=B\n",
    "    P_1=P1\n",
    "    P_2=P2\n",
    "    _gamma=gamma\n",
    "    Y = 1-(0.333+1.145(_B**2+0.7*_B**5+ 12*_B**13))*(P_1-P_2)/(_gamma*P_1)\n",
    "    return Y\n",
    "\n",
    "# Externally measured P02\n",
    "\n",
    "def downstream(m, m_c, P1, P01): #Calculate P02 i.e Stagnation pressure downstream.\n",
    "    P_1=P1\n",
    "    P_01=P01\n",
    "    y=gamma\n",
    "    \n",
    "    if m>m_c:\n",
    "        print ('Flow rate too high')\n",
    "        r_f = m_c/m #reduction factor\n",
    "        return r_f\n",
    "    elif m==m_c:\n",
    "        print ('Flow is choked')\n",
    "        P_2 = P_1*(2/(y+1))**(y/(y-1))\n",
    "        P_02 = P_01 + P_2 - P_1\n",
    "        return (P_02)\n",
    "    else:\n",
    "        A=A_o\n",
    "        _m=m\n",
    "        from sympy.solvers import solve\n",
    "        from sympy import Symbol\n",
    "        P_2 = Symbol('P_2')\n",
    "        _P_2 =solve(Cd*(1-(0.333+1.145*(_B**2+0.7*_B**5+ 12*_B**13))*(P_1-P_2)/(gamma*P_1))*A*(2*rho1*(P_1-P_2))**0.5-_m, P_2)\n",
    "        P_02 = P_01 + P_2 - P_1\n",
    "        return (P_02)"
   ]
  },
  {
   "cell_type": "code",
   "execution_count": 93,
   "metadata": {},
   "outputs": [],
   "source": [
    "_dt = 1\n",
    "_initialBackP = 1e5\n",
    "_initialMass = 32.2\n",
    "_cylInitialTemp = 295\n",
    "_agentInitialTemp = 294\n",
    "_orificeDiam = 0.006\n",
    "cont = [0] * len(tanks)\n",
    "cont[firstTank] = container(agentInitialTemp = _agentInitialTemp,\n",
    "             initialMass = _initialMass,\n",
    "             cylInitialTemp = _cylInitialTemp,\n",
    "             cylLength = 1.8,\n",
    "             cylDiam = 0.28,\n",
    "             nozzleDiam = _orificeDiam,\n",
    "             wallThickness = 0.005,\n",
    "             ambientTemp = 300,\n",
    "             backPressure = _initialBackP,\n",
    "             endTime = _dt,\n",
    "             numTimeSteps = 2000)\n",
    "cont[firstTank].solve()"
   ]
  },
  {
   "cell_type": "code",
   "execution_count": 94,
   "metadata": {},
   "outputs": [],
   "source": [
    "mdot0 = cont[firstTank].ma()[0] - cont[firstTank].ma()[-1]"
   ]
  },
  {
   "cell_type": "code",
   "execution_count": 95,
   "metadata": {},
   "outputs": [
    {
     "data": {
      "text/plain": [
       "1.5781868293180423"
      ]
     },
     "execution_count": 95,
     "metadata": {},
     "output_type": "execute_result"
    }
   ],
   "source": [
    "mdot0"
   ]
  },
  {
   "cell_type": "code",
   "execution_count": 96,
   "metadata": {},
   "outputs": [
    {
     "data": {
      "text/plain": [
       "24513574.851490695"
      ]
     },
     "execution_count": 96,
     "metadata": {},
     "output_type": "execute_result"
    }
   ],
   "source": [
    "cont[firstTank].Pt()[0]"
   ]
  },
  {
   "cell_type": "code",
   "execution_count": 97,
   "metadata": {},
   "outputs": [],
   "source": [
    "#total pressure inside the tank after dt time\n",
    "P01 = cont[firstTank].Pt()[-1]"
   ]
  },
  {
   "cell_type": "code",
   "execution_count": 98,
   "metadata": {},
   "outputs": [],
   "source": [
    "#total temperature inside the tank after dt time\n",
    "T01 = cont[firstTank].Ta()[-1]"
   ]
  },
  {
   "cell_type": "code",
   "execution_count": 99,
   "metadata": {},
   "outputs": [
    {
     "ename": "TypeError",
     "evalue": "stat_P() missing 1 required positional argument: 'M'",
     "output_type": "error",
     "traceback": [
      "\u001b[1;31m---------------------------------------------------------------------------\u001b[0m",
      "\u001b[1;31mTypeError\u001b[0m                                 Traceback (most recent call last)",
      "\u001b[1;32m<ipython-input-99-5cc8cec30c9d>\u001b[0m in \u001b[0;36m<module>\u001b[1;34m()\u001b[0m\n\u001b[1;32m----> 1\u001b[1;33m \u001b[0mP02\u001b[0m \u001b[1;33m=\u001b[0m \u001b[0mmain_nozzle_forward\u001b[0m\u001b[1;33m(\u001b[0m\u001b[0mP01\u001b[0m\u001b[1;33m,\u001b[0m\u001b[0mT01\u001b[0m\u001b[1;33m,\u001b[0m\u001b[0mmdot0\u001b[0m\u001b[1;33m,\u001b[0m\u001b[0m_orificeDiam\u001b[0m\u001b[1;33m)\u001b[0m\u001b[1;33m\u001b[0m\u001b[0m\n\u001b[0m",
      "\u001b[1;32m<ipython-input-92-4e8fb1661f47>\u001b[0m in \u001b[0;36mmain_nozzle_forward\u001b[1;34m(P01, T01, m, D_orifice)\u001b[0m\n\u001b[0;32m     15\u001b[0m     \u001b[0m_m\u001b[0m\u001b[1;33m=\u001b[0m\u001b[0mm\u001b[0m\u001b[1;33m\u001b[0m\u001b[0m\n\u001b[0;32m     16\u001b[0m \u001b[1;33m\u001b[0m\u001b[0m\n\u001b[1;32m---> 17\u001b[1;33m     \u001b[0mP_1\u001b[0m\u001b[1;33m=\u001b[0m\u001b[0mstat_P\u001b[0m\u001b[1;33m(\u001b[0m\u001b[0mP_01\u001b[0m\u001b[1;33m)\u001b[0m \u001b[1;31m#these equatiions need Mach number\u001b[0m\u001b[1;33m\u001b[0m\u001b[0m\n\u001b[0m\u001b[0;32m     18\u001b[0m     \u001b[0mT_1\u001b[0m\u001b[1;33m=\u001b[0m\u001b[0mstat_T\u001b[0m\u001b[1;33m(\u001b[0m\u001b[0mT_01\u001b[0m\u001b[1;33m)\u001b[0m\u001b[1;33m\u001b[0m\u001b[0m\n\u001b[0;32m     19\u001b[0m \u001b[1;33m\u001b[0m\u001b[0m\n",
      "\u001b[1;31mTypeError\u001b[0m: stat_P() missing 1 required positional argument: 'M'"
     ]
    }
   ],
   "source": [
    "P02 = main_nozzle_forward(P01,T01,mdot0,_orificeDiam)"
   ]
  },
  {
   "cell_type": "code",
   "execution_count": 91,
   "metadata": {},
   "outputs": [
    {
     "data": {
      "text/plain": [
       "24342748.33743746"
      ]
     },
     "execution_count": 91,
     "metadata": {},
     "output_type": "execute_result"
    }
   ],
   "source": [
    "M = 0.1\n",
    "stat_P(24513574, M)"
   ]
  },
  {
   "cell_type": "code",
   "execution_count": null,
   "metadata": {},
   "outputs": [],
   "source": []
  }
 ],
 "metadata": {
  "kernelspec": {
   "display_name": "Python 3",
   "language": "python",
   "name": "python3"
  },
  "language_info": {
   "codemirror_mode": {
    "name": "ipython",
    "version": 3
   },
   "file_extension": ".py",
   "mimetype": "text/x-python",
   "name": "python",
   "nbconvert_exporter": "python",
   "pygments_lexer": "ipython3",
   "version": "3.6.5"
  }
 },
 "nbformat": 4,
 "nbformat_minor": 2
}
