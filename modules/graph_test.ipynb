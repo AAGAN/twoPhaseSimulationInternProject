{
 "cells": [
  {
   "cell_type": "code",
   "execution_count": 1,
   "metadata": {},
   "outputs": [
    {
     "name": "stdout",
     "output_type": "stream",
     "text": [
      "IGRAPH DN-T 15 14 -- \n",
      "+ attr: agent (g), cyl_pressure (g), cyl_size (g), cyl_valve_type (g), discharge_time (g), D (v), M (v), MFR (v), P (v), P0 (v), T (v), T0 (v), name (v), rho (v), type (v), x (v), y (v), z (v), Cpl (e), D (e), Dtrp (e), Elb (e), H (e), L (e), Ptap (e), SV (e), Sch (e), Stee (e), Ttee (e), f (e)\n",
      "[(0, 1), (1, 2), (2, 3), (3, 4), (4, 5), (4, 6), (5, 7), (5, 8), (8, 9), (7, 10), (10, 11), (7, 12), (12, 13), (6, 14)]\n",
      "(0, 11, 8)\n",
      "1 0 1 1 0\n",
      "2 1 2 1 1\n",
      "3 2 2 1 1\n",
      "4 3 2 1 1\n",
      "5 4 3 2 1\n",
      "6 5 3 2 1\n",
      "34 6 2 1 1\n",
      "7 7 3 2 1\n",
      "35 8 2 1 1\n",
      "305 9 1 0 1\n",
      "31 10 2 1 1\n",
      "301 11 1 0 1\n",
      "32 12 2 1 1\n",
      "302 13 1 0 1\n",
      "304 14 1 0 1\n"
     ]
    }
   ],
   "source": [
    "from pipeNetwork import pipeNetwork\n",
    "from containerClass import container\n",
    "import numpy as np\n",
    "from scipy.integrate import solve_ivp\n",
    "import igraph\n",
    "from calcTw import calcTw\n",
    "from calcQ import calcQ\n",
    "from containerClass import container\n",
    "#from systemDefinitions import system,nodes,nodes1,pipeSections,pipeSections1\n",
    "from systemDefinitions import system,pipeSections,pipeSections1, pipeSections3,orificeDiam3,pipeSections4\n",
    "from orificeForward import main_nozzle_forward, mass_critical\n",
    "import matplotlib.pyplot as plt\n",
    "from scipy.optimize import fsolve,root"
   ]
  },
  {
   "cell_type": "code",
   "execution_count": 2,
   "metadata": {},
   "outputs": [],
   "source": [
    "net = pipeNetwork()"
   ]
  },
  {
   "cell_type": "code",
   "execution_count": 3,
   "metadata": {},
   "outputs": [],
   "source": [
    "net.addSystem(system)"
   ]
  },
  {
   "cell_type": "code",
   "execution_count": 4,
   "metadata": {},
   "outputs": [],
   "source": [
    "net.addAllPipes(pipeSections3, orificeDiam3)"
   ]
  },
  {
   "cell_type": "code",
   "execution_count": 5,
   "metadata": {},
   "outputs": [
    {
     "name": "stdout",
     "output_type": "stream",
     "text": [
      "IGRAPH DN-T 15 14 -- \n",
      "+ attr: agent (g), cyl_pressure (g), cyl_size (g), cyl_valve_type (g), discharge_time (g), D (v), M (v), MFR (v), P (v), P0 (v), T (v), T0 (v), name (v), rho (v), type (v), x (v), y (v), z (v), Cpl (e), D (e), Dtrp (e), Elb (e), H (e), L (e), Ptap (e), SV (e), Sch (e), Stee (e), Ttee (e), f (e)\n",
      "[(0, 1), (1, 2), (2, 3), (3, 4), (4, 5), (4, 6), (5, 7), (5, 8), (8, 9), (7, 10), (10, 11), (7, 12), (12, 13), (6, 14)]\n",
      "(0, 11, 8)\n",
      "1 0 1 1 0\n",
      "2 1 2 1 1\n",
      "3 2 2 1 1\n",
      "4 3 2 1 1\n",
      "5 4 3 2 1\n",
      "6 5 3 2 1\n",
      "34 6 2 1 1\n",
      "7 7 3 2 1\n",
      "35 8 2 1 1\n",
      "305 9 1 0 1\n",
      "31 10 2 1 1\n",
      "301 11 1 0 1\n",
      "32 12 2 1 1\n",
      "302 13 1 0 1\n",
      "304 14 1 0 1\n"
     ]
    }
   ],
   "source": [
    "net.topoSummary()"
   ]
  },
  {
   "cell_type": "code",
   "execution_count": 6,
   "metadata": {},
   "outputs": [
    {
     "data": {
      "text/plain": [
       "[igraph.Vertex(<igraph.Graph object at 0x0000000008A746D8>, 13, {'type': None, 'x': None, 'y': None, 'z': None, 'M': None, 'T0': None, 'T': None, 'P0': None, 'P': None, 'rho': None, 'D': 0.128, 'MFR': None, 'name': 302})]"
      ]
     },
     "execution_count": 6,
     "metadata": {},
     "output_type": "execute_result"
    }
   ],
   "source": [
    "net.t.vs[12].successors()"
   ]
  },
  {
   "cell_type": "code",
   "execution_count": 7,
   "metadata": {},
   "outputs": [
    {
     "name": "stdout",
     "output_type": "stream",
     "text": [
      "igraph.Vertex(<igraph.Graph object at 0x0000000008A746D8>, 9, {'type': 'nozzle', 'x': None, 'y': None, 'z': None, 'M': None, 'T0': None, 'T': None, 'P0': None, 'P': None, 'rho': None, 'D': 0.25, 'MFR': None, 'name': 305})\n",
      "igraph.Vertex(<igraph.Graph object at 0x0000000008A746D8>, 11, {'type': 'nozzle', 'x': None, 'y': None, 'z': None, 'M': None, 'T0': None, 'T': None, 'P0': None, 'P': None, 'rho': None, 'D': 0.28125, 'MFR': None, 'name': 301})\n",
      "igraph.Vertex(<igraph.Graph object at 0x0000000008A746D8>, 13, {'type': 'nozzle', 'x': None, 'y': None, 'z': None, 'M': None, 'T0': None, 'T': None, 'P0': None, 'P': None, 'rho': None, 'D': 0.128, 'MFR': None, 'name': 302})\n",
      "igraph.Vertex(<igraph.Graph object at 0x0000000008A746D8>, 14, {'type': 'nozzle', 'x': None, 'y': None, 'z': None, 'M': None, 'T0': None, 'T': None, 'P0': None, 'P': None, 'rho': None, 'D': 0.344, 'MFR': None, 'name': 304})\n"
     ]
    }
   ],
   "source": [
    "net.t.vs.select(_outdegree = 0)['type'] = 'nozzle'\n",
    "for i in net.t.vs.select(_outdegree = 0):\n",
    "    print(i)"
   ]
  },
  {
   "cell_type": "code",
   "execution_count": 8,
   "metadata": {},
   "outputs": [
    {
     "name": "stdout",
     "output_type": "stream",
     "text": [
      "igraph.Vertex(<igraph.Graph object at 0x0000000008A746D8>, 4, {'type': 'tee', 'x': None, 'y': None, 'z': None, 'M': None, 'T0': None, 'T': None, 'P0': None, 'P': None, 'rho': None, 'D': 0, 'MFR': None, 'name': 5})\n",
      "igraph.Vertex(<igraph.Graph object at 0x0000000008A746D8>, 5, {'type': 'tee', 'x': None, 'y': None, 'z': None, 'M': None, 'T0': None, 'T': None, 'P0': None, 'P': None, 'rho': None, 'D': 0, 'MFR': None, 'name': 6})\n",
      "igraph.Vertex(<igraph.Graph object at 0x0000000008A746D8>, 7, {'type': 'tee', 'x': None, 'y': None, 'z': None, 'M': None, 'T0': None, 'T': None, 'P0': None, 'P': None, 'rho': None, 'D': 0, 'MFR': None, 'name': 7})\n"
     ]
    }
   ],
   "source": [
    "net.t.vs.select(_outdegree = 2)['type'] = 'tee'\n",
    "for i in net.t.vs.select(_outdegree = 2):\n",
    "    print(i)"
   ]
  },
  {
   "cell_type": "code",
   "execution_count": 9,
   "metadata": {},
   "outputs": [
    {
     "name": "stdout",
     "output_type": "stream",
     "text": [
      "igraph.Vertex(<igraph.Graph object at 0x0000000008A746D8>, 0, {'type': 'tank', 'x': None, 'y': None, 'z': None, 'M': None, 'T0': None, 'T': None, 'P0': None, 'P': None, 'rho': None, 'D': 0, 'MFR': None, 'name': 1})\n"
     ]
    }
   ],
   "source": [
    "net.t.vs.select(_indegree = 0)['type'] = 'tank'\n",
    "for i in net.t.vs.select(_indegree = 0):\n",
    "    print(i)"
   ]
  },
  {
   "cell_type": "code",
   "execution_count": 10,
   "metadata": {},
   "outputs": [
    {
     "name": "stdout",
     "output_type": "stream",
     "text": [
      "igraph.Vertex(<igraph.Graph object at 0x0000000008A746D8>, 1, {'type': None, 'x': None, 'y': None, 'z': None, 'M': None, 'T0': None, 'T': None, 'P0': None, 'P': None, 'rho': None, 'D': 0, 'MFR': None, 'name': 2})\n",
      "igraph.Vertex(<igraph.Graph object at 0x0000000008A746D8>, 2, {'type': None, 'x': None, 'y': None, 'z': None, 'M': None, 'T0': None, 'T': None, 'P0': None, 'P': None, 'rho': None, 'D': 0, 'MFR': None, 'name': 3})\n",
      "igraph.Vertex(<igraph.Graph object at 0x0000000008A746D8>, 3, {'type': None, 'x': None, 'y': None, 'z': None, 'M': None, 'T0': None, 'T': None, 'P0': None, 'P': None, 'rho': None, 'D': 0, 'MFR': None, 'name': 4})\n",
      "igraph.Vertex(<igraph.Graph object at 0x0000000008A746D8>, 6, {'type': None, 'x': None, 'y': None, 'z': None, 'M': None, 'T0': None, 'T': None, 'P0': None, 'P': None, 'rho': None, 'D': 0, 'MFR': None, 'name': 34})\n",
      "igraph.Vertex(<igraph.Graph object at 0x0000000008A746D8>, 8, {'type': None, 'x': None, 'y': None, 'z': None, 'M': None, 'T0': None, 'T': None, 'P0': None, 'P': None, 'rho': None, 'D': 0, 'MFR': None, 'name': 35})\n",
      "igraph.Vertex(<igraph.Graph object at 0x0000000008A746D8>, 10, {'type': None, 'x': None, 'y': None, 'z': None, 'M': None, 'T0': None, 'T': None, 'P0': None, 'P': None, 'rho': None, 'D': 0, 'MFR': None, 'name': 31})\n",
      "igraph.Vertex(<igraph.Graph object at 0x0000000008A746D8>, 12, {'type': None, 'x': None, 'y': None, 'z': None, 'M': None, 'T0': None, 'T': None, 'P0': None, 'P': None, 'rho': None, 'D': 0, 'MFR': None, 'name': 32})\n"
     ]
    }
   ],
   "source": [
    "for i in net.t.vs.select(_indegree = 1 , _outdegree = 1):\n",
    "    print(i)"
   ]
  },
  {
   "cell_type": "code",
   "execution_count": 11,
   "metadata": {},
   "outputs": [
    {
     "data": {
      "text/plain": [
       "1"
      ]
     },
     "execution_count": 11,
     "metadata": {},
     "output_type": "execute_result"
    }
   ],
   "source": [
    "net.t.edge_connectivity(0,3)"
   ]
  },
  {
   "cell_type": "code",
   "execution_count": 12,
   "metadata": {},
   "outputs": [
    {
     "data": {
      "text/plain": [
       "[0]"
      ]
     },
     "execution_count": 12,
     "metadata": {},
     "output_type": "execute_result"
    }
   ],
   "source": [
    "nozzles = net.t.vs.select(_outdegree = 0)\n",
    "nozzles.indices\n",
    "tanks = net.t.vs.select(_indegree = 0)\n",
    "tanks.indices"
   ]
  },
  {
   "cell_type": "code",
   "execution_count": 13,
   "metadata": {},
   "outputs": [],
   "source": [
    "firstTank = net.t.farthest_points(directed=True)[0]"
   ]
  },
  {
   "cell_type": "code",
   "execution_count": 14,
   "metadata": {},
   "outputs": [],
   "source": [
    "lastNozzle = net.t.farthest_points(directed=True)[1]"
   ]
  },
  {
   "cell_type": "code",
   "execution_count": 15,
   "metadata": {},
   "outputs": [],
   "source": [
    "commonNodes = []\n",
    "for node in net.t.vs:\n",
    "    Common = True\n",
    "    for noz in nozzles.indices:\n",
    "        for tank in tanks.indices:\n",
    "            if node.index != noz:\n",
    "                if net.t.edge_connectivity(node.index,noz)== 0:\n",
    "                    Common = False\n",
    "                    break\n",
    "            if node.index != tank:\n",
    "                if net.t.edge_connectivity(tank,node.index)==0:\n",
    "                    Common = False\n",
    "                    break\n",
    "    if Common == True:\n",
    "        commonNodes.append(node.index)"
   ]
  },
  {
   "cell_type": "code",
   "execution_count": 16,
   "metadata": {},
   "outputs": [
    {
     "data": {
      "text/plain": [
       "[0, 1, 2, 3, 4]"
      ]
     },
     "execution_count": 16,
     "metadata": {},
     "output_type": "execute_result"
    }
   ],
   "source": [
    "commonNodes"
   ]
  },
  {
   "cell_type": "code",
   "execution_count": 17,
   "metadata": {},
   "outputs": [],
   "source": [
    "def assignMFR(guess):\n",
    "    for noz in nozzles.indices:\n",
    "        net.t.vs[noz]['MFR'] = guess / len(nozzles)\n"
   ]
  },
  {
   "cell_type": "code",
   "execution_count": 18,
   "metadata": {},
   "outputs": [],
   "source": [
    "if len(commonNodes)>1:\n",
    "    commonNode = commonNodes[1]\n",
    "else:\n",
    "    print(\"there should be a point between the tank and the rest of the system\")"
   ]
  },
  {
   "cell_type": "code",
   "execution_count": 19,
   "metadata": {},
   "outputs": [
    {
     "data": {
      "text/plain": [
       "1"
      ]
     },
     "execution_count": 19,
     "metadata": {},
     "output_type": "execute_result"
    }
   ],
   "source": [
    "commonNode"
   ]
  },
  {
   "cell_type": "code",
   "execution_count": 20,
   "metadata": {},
   "outputs": [
    {
     "data": {
      "text/plain": [
       "0"
      ]
     },
     "execution_count": 20,
     "metadata": {},
     "output_type": "execute_result"
    }
   ],
   "source": [
    "firstTank"
   ]
  },
  {
   "cell_type": "code",
   "execution_count": 21,
   "metadata": {},
   "outputs": [],
   "source": [
    "_dt = 0.1\n",
    "_initialBackP = 1e5\n",
    "_initialMass = 32.2\n",
    "_cylInitialTemp = 295\n",
    "_agentInitialTemp = 294\n",
    "_orificeDiam = 0.0066565\n",
    "cont = [0] * len(tanks)\n",
    "gamma = 1.4614 #from the theromo library for inergen\n",
    "R = 8.3145 #* u.joule / u.kelvin / u.mole\n",
    "MW = 0.0340669 #from the theromo library for inergen kg/mole\n",
    "cont[firstTank] = container(agentInitialTemp = _agentInitialTemp,\n",
    "             initialMass = _initialMass,\n",
    "             cylInitialTemp = _cylInitialTemp,\n",
    "             cylLength = 1.7,\n",
    "             cylDiam = 0.267,\n",
    "             nozzleDiam = _orificeDiam,\n",
    "             wallThickness = 0.005,\n",
    "             ambientTemp = 300,\n",
    "             backPressure = _initialBackP,\n",
    "             endTime = _dt,\n",
    "             numTimeSteps = 2000)\n",
    "cont[firstTank].solve()"
   ]
  },
  {
   "cell_type": "code",
   "execution_count": 22,
   "metadata": {},
   "outputs": [],
   "source": [
    "mdot0 = (cont[firstTank].ma()[0] - cont[firstTank].ma()[-1])/_dt"
   ]
  },
  {
   "cell_type": "code",
   "execution_count": 23,
   "metadata": {},
   "outputs": [
    {
     "data": {
      "text/plain": [
       "1.4180079671567825"
      ]
     },
     "execution_count": 23,
     "metadata": {},
     "output_type": "execute_result"
    }
   ],
   "source": [
    "mdot0"
   ]
  },
  {
   "cell_type": "code",
   "execution_count": 24,
   "metadata": {},
   "outputs": [
    {
     "data": {
      "text/plain": [
       "28544587.631639954"
      ]
     },
     "execution_count": 24,
     "metadata": {},
     "output_type": "execute_result"
    }
   ],
   "source": [
    "cont[firstTank].Pt()[0]"
   ]
  },
  {
   "cell_type": "code",
   "execution_count": 25,
   "metadata": {},
   "outputs": [],
   "source": [
    "#total pressure inside the tank after dt time\n",
    "P01 = cont[firstTank].Pt()[-1]"
   ]
  },
  {
   "cell_type": "code",
   "execution_count": 26,
   "metadata": {},
   "outputs": [],
   "source": [
    "#total temperature inside the tank after dt time\n",
    "T01 = cont[firstTank].Ta()[-1]"
   ]
  },
  {
   "cell_type": "code",
   "execution_count": 27,
   "metadata": {},
   "outputs": [
    {
     "name": "stdout",
     "output_type": "stream",
     "text": [
      "14699617.962553313\n"
     ]
    }
   ],
   "source": [
    "#calculating the back pressure from equation 4 page 14 (isentropic process)\n",
    "backPressure = P01 * (2/(gamma+1))**(gamma/(gamma-1))\n",
    "print(backPressure)"
   ]
  },
  {
   "cell_type": "code",
   "execution_count": 28,
   "metadata": {},
   "outputs": [],
   "source": [
    "#calculating the mach number at the beginning of the first pipe after the tank valve \n",
    "def AAstar(M):\n",
    "    val = A/Astar-1.0/M*((2.0/(gamma+1.0)*(1.0+(gamma-1.0)/2.0*M**2.0)))**((gamma+1.0)/(2.0*(gamma-1.0)))\n",
    "    return val\n",
    "    \n",
    "pipeDiam = 0.0254\n",
    "Astar = np.pi * _orificeDiam**2.0 /4.0\n",
    "A = np.pi * pipeDiam**2.0 / 4.0\n",
    "\n",
    "res = root(AAstar, 0.0001)\n",
    "M = res['x'][0]"
   ]
  },
  {
   "cell_type": "code",
   "execution_count": 29,
   "metadata": {},
   "outputs": [],
   "source": [
    "def P0(M,P):\n",
    "    return P*(1.0+(gamma-1.0)/2.0*M**2.0)**(gamma/(gamma-1))\n",
    "\n",
    "P02 = P0(M,backPressure)"
   ]
  },
  {
   "cell_type": "code",
   "execution_count": 30,
   "metadata": {},
   "outputs": [],
   "source": [
    "def T(T0,M):\n",
    "    return T0 / (1+(gamma-1)/2.0*M**2)\n",
    "\n",
    "T2 = T(T01,M)"
   ]
  },
  {
   "cell_type": "code",
   "execution_count": 31,
   "metadata": {},
   "outputs": [],
   "source": [
    "rho2 = backPressure / (R/MW) / T2"
   ]
  },
  {
   "cell_type": "code",
   "execution_count": 42,
   "metadata": {},
   "outputs": [],
   "source": [
    "#function to find the next tee, nozzle, tank, commonNode from a node and a pipe based on the direction of the pipe\n",
    "#if the returned degree findNext()[1] is 1:tank or nozzle, 0:commonNode, 3:tee\n",
    "def findNext(node, edge, graph, commonNode):\n",
    "    _common = commonNode\n",
    "    _edge = edge\n",
    "    _node = node\n",
    "    _nodeIDs = [node.index]\n",
    "    _graph = graph\n",
    "    if _node.index == _edge.source:\n",
    "        #move forward in the graph until the next tee\n",
    "        _nextNodeID = _edge.target\n",
    "        _nodeIDs.append(_nextNodeID)\n",
    "        while _graph.vs[_nextNodeID].degree()==2 and _graph.vs[_nextNodeID].index != _common:\n",
    "            _nextNodeID = _graph.vs[_nextNodeID].successors()[0].index\n",
    "            _nodeIDs.append(_nextNodeID)\n",
    "            \n",
    "    elif _node.index == _edge.target:\n",
    "        #move backwards in the graph until the next tee\n",
    "        _nextNodeID = _edge.source\n",
    "        _nodeIDs.append(_nextNodeID)\n",
    "        while _graph.vs[_nextNodeID].degree()==2 and _graph.vs[_nextNodeID].index != _common:\n",
    "            _nextNodeID = _graph.vs[_nextNodeID].predecessors()[0].index\n",
    "            _nodeIDs.append(_nextNodeID)   \n",
    "    _nodeType = _graph.vs[_nextNodeID].degree()\n",
    "    if _nextNodeID == _common:\n",
    "        _nodeType = 0\n",
    "    return _nodeIDs, _nodeType"
   ]
  },
  {
   "cell_type": "code",
   "execution_count": 61,
   "metadata": {},
   "outputs": [
    {
     "name": "stdout",
     "output_type": "stream",
     "text": [
      "[4, 6, 14]\n",
      "1\n"
     ]
    }
   ],
   "source": [
    "g = net.t\n",
    "n = findNext(g.vs[4],g.es[5],g, commonNode)\n",
    "print(n[0])\n",
    "print(n[1])"
   ]
  },
  {
   "cell_type": "code",
   "execution_count": 51,
   "metadata": {},
   "outputs": [],
   "source": [
    "#function to calculate the pressure drop between two nodes (from source to target)\n",
    "#calculates all the properties of the target node \n",
    "#there should be only one path between source and target nodes\n",
    "#returns a node with the calculated properties\n",
    "def calcNode(source, target, graph):\n",
    "    pass"
   ]
  },
  {
   "cell_type": "code",
   "execution_count": 59,
   "metadata": {},
   "outputs": [
    {
     "data": {
      "text/plain": [
       "[[2, 3, 4]]"
      ]
     },
     "execution_count": 59,
     "metadata": {},
     "output_type": "execute_result"
    }
   ],
   "source": [
    "g.get_shortest_paths(2,4)"
   ]
  }
 ],
 "metadata": {
  "kernelspec": {
   "display_name": "Python 3",
   "language": "python",
   "name": "python3"
  },
  "language_info": {
   "codemirror_mode": {
    "name": "ipython",
    "version": 3
   },
   "file_extension": ".py",
   "mimetype": "text/x-python",
   "name": "python",
   "nbconvert_exporter": "python",
   "pygments_lexer": "ipython3",
   "version": "3.6.5"
  }
 },
 "nbformat": 4,
 "nbformat_minor": 2
}
