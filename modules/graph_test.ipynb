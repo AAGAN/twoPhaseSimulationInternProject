{
 "cells": [
  {
   "cell_type": "code",
   "execution_count": 1,
   "metadata": {},
   "outputs": [],
   "source": [
    "from pipeNetwork import pipeNetwork\n",
    "from containerClass import container\n",
    "import numpy as np\n",
    "from scipy.integrate import solve_ivp\n",
    "import igraph\n",
    "from calcTw import calcTw\n",
    "from calcQ import calcQ\n",
    "from containerClass import container\n",
    "#from systemDefinitions import system,nodes,nodes1,pipeSections,pipeSections1\n",
    "from systemDefinitions import system,pipeSections,pipeSections1, pipeSections3,orificeDiam3,pipeSections4\n",
    "from orificeForward import main_nozzle_forward, mass_critical\n",
    "import matplotlib.pyplot as plt\n",
    "from scipy.optimize import fsolve,root"
   ]
  },
  {
   "cell_type": "code",
   "execution_count": 2,
   "metadata": {},
   "outputs": [],
   "source": [
    "net = pipeNetwork()"
   ]
  },
  {
   "cell_type": "code",
   "execution_count": 3,
   "metadata": {},
   "outputs": [],
   "source": [
    "net.addSystem(system)"
   ]
  },
  {
   "cell_type": "code",
   "execution_count": 4,
   "metadata": {},
   "outputs": [],
   "source": [
    "net.addAllPipes(pipeSections3, orificeDiam3)"
   ]
  },
  {
   "cell_type": "code",
   "execution_count": 5,
   "metadata": {},
   "outputs": [
    {
     "name": "stdout",
     "output_type": "stream",
     "text": [
      "IGRAPH DN-T 15 14 -- \n",
      "+ attr: agent (g), cyl_pressure (g), cyl_size (g), cyl_valve_type (g), discharge_time (g), D (v), M (v), MFR (v), P (v), P0 (v), T (v), T0 (v), calculated (v), name (v), rho (v), type (v), x (v), y (v), z (v), Cpl (e), D (e), Dtrp (e), Elb (e), H (e), L (e), MFR (e), P0i (e), Ptap (e), SV (e), Sch (e), Stee (e), Ttee (e), f (e)\n",
      "[(0, 1), (1, 2), (2, 3), (3, 4), (4, 5), (4, 6), (5, 7), (5, 8), (8, 9), (7, 10), (10, 11), (7, 12), (12, 13), (6, 14)]\n",
      "(0, 11, 8)\n",
      "1 0 1 1 0\n",
      "2 1 2 1 1\n",
      "3 2 2 1 1\n",
      "4 3 2 1 1\n",
      "5 4 3 2 1\n",
      "6 5 3 2 1\n",
      "34 6 2 1 1\n",
      "7 7 3 2 1\n",
      "35 8 2 1 1\n",
      "305 9 1 0 1\n",
      "31 10 2 1 1\n",
      "301 11 1 0 1\n",
      "32 12 2 1 1\n",
      "302 13 1 0 1\n",
      "304 14 1 0 1\n"
     ]
    }
   ],
   "source": [
    "net.topoSummary()"
   ]
  },
  {
   "cell_type": "code",
   "execution_count": 6,
   "metadata": {},
   "outputs": [
    {
     "data": {
      "text/plain": [
       "[igraph.Vertex(<igraph.Graph object at 0x0000000008A8C4F8>, 13, {'type': None, 'x': None, 'y': None, 'z': None, 'M': None, 'T0': None, 'T': None, 'P0': None, 'P': None, 'rho': None, 'D': 0.128, 'MFR': None, 'calculated': None, 'name': 302})]"
      ]
     },
     "execution_count": 6,
     "metadata": {},
     "output_type": "execute_result"
    }
   ],
   "source": [
    "net.t.vs[12].successors()"
   ]
  },
  {
   "cell_type": "code",
   "execution_count": 7,
   "metadata": {},
   "outputs": [
    {
     "name": "stdout",
     "output_type": "stream",
     "text": [
      "igraph.Vertex(<igraph.Graph object at 0x0000000008A8C4F8>, 9, {'type': 'nozzle', 'x': None, 'y': None, 'z': None, 'M': None, 'T0': None, 'T': None, 'P0': None, 'P': None, 'rho': None, 'D': 0.25, 'MFR': None, 'calculated': None, 'name': 305})\n",
      "igraph.Vertex(<igraph.Graph object at 0x0000000008A8C4F8>, 11, {'type': 'nozzle', 'x': None, 'y': None, 'z': None, 'M': None, 'T0': None, 'T': None, 'P0': None, 'P': None, 'rho': None, 'D': 0.28125, 'MFR': None, 'calculated': None, 'name': 301})\n",
      "igraph.Vertex(<igraph.Graph object at 0x0000000008A8C4F8>, 13, {'type': 'nozzle', 'x': None, 'y': None, 'z': None, 'M': None, 'T0': None, 'T': None, 'P0': None, 'P': None, 'rho': None, 'D': 0.128, 'MFR': None, 'calculated': None, 'name': 302})\n",
      "igraph.Vertex(<igraph.Graph object at 0x0000000008A8C4F8>, 14, {'type': 'nozzle', 'x': None, 'y': None, 'z': None, 'M': None, 'T0': None, 'T': None, 'P0': None, 'P': None, 'rho': None, 'D': 0.344, 'MFR': None, 'calculated': None, 'name': 304})\n"
     ]
    }
   ],
   "source": [
    "net.t.vs.select(_outdegree = 0)['type'] = 'nozzle'\n",
    "for i in net.t.vs.select(_outdegree = 0):\n",
    "    print(i)"
   ]
  },
  {
   "cell_type": "code",
   "execution_count": 8,
   "metadata": {},
   "outputs": [
    {
     "name": "stdout",
     "output_type": "stream",
     "text": [
      "igraph.Vertex(<igraph.Graph object at 0x0000000008A8C4F8>, 4, {'type': 'tee', 'x': None, 'y': None, 'z': None, 'M': None, 'T0': None, 'T': None, 'P0': None, 'P': None, 'rho': None, 'D': 0, 'MFR': None, 'calculated': None, 'name': 5})\n",
      "igraph.Vertex(<igraph.Graph object at 0x0000000008A8C4F8>, 5, {'type': 'tee', 'x': None, 'y': None, 'z': None, 'M': None, 'T0': None, 'T': None, 'P0': None, 'P': None, 'rho': None, 'D': 0, 'MFR': None, 'calculated': None, 'name': 6})\n",
      "igraph.Vertex(<igraph.Graph object at 0x0000000008A8C4F8>, 7, {'type': 'tee', 'x': None, 'y': None, 'z': None, 'M': None, 'T0': None, 'T': None, 'P0': None, 'P': None, 'rho': None, 'D': 0, 'MFR': None, 'calculated': None, 'name': 7})\n"
     ]
    }
   ],
   "source": [
    "net.t.vs.select(_outdegree = 2)['type'] = 'tee'\n",
    "for i in net.t.vs.select(_outdegree = 2):\n",
    "    print(i)"
   ]
  },
  {
   "cell_type": "code",
   "execution_count": 9,
   "metadata": {},
   "outputs": [
    {
     "name": "stdout",
     "output_type": "stream",
     "text": [
      "igraph.Vertex(<igraph.Graph object at 0x0000000008A8C4F8>, 0, {'type': 'tank', 'x': None, 'y': None, 'z': None, 'M': None, 'T0': None, 'T': None, 'P0': None, 'P': None, 'rho': None, 'D': 0, 'MFR': None, 'calculated': None, 'name': 1})\n"
     ]
    }
   ],
   "source": [
    "net.t.vs.select(_indegree = 0)['type'] = 'tank'\n",
    "for i in net.t.vs.select(_indegree = 0):\n",
    "    print(i)"
   ]
  },
  {
   "cell_type": "code",
   "execution_count": 10,
   "metadata": {},
   "outputs": [
    {
     "name": "stdout",
     "output_type": "stream",
     "text": [
      "igraph.Vertex(<igraph.Graph object at 0x0000000008A8C4F8>, 1, {'type': None, 'x': None, 'y': None, 'z': None, 'M': None, 'T0': None, 'T': None, 'P0': None, 'P': None, 'rho': None, 'D': 0, 'MFR': None, 'calculated': None, 'name': 2})\n",
      "igraph.Vertex(<igraph.Graph object at 0x0000000008A8C4F8>, 2, {'type': None, 'x': None, 'y': None, 'z': None, 'M': None, 'T0': None, 'T': None, 'P0': None, 'P': None, 'rho': None, 'D': 0, 'MFR': None, 'calculated': None, 'name': 3})\n",
      "igraph.Vertex(<igraph.Graph object at 0x0000000008A8C4F8>, 3, {'type': None, 'x': None, 'y': None, 'z': None, 'M': None, 'T0': None, 'T': None, 'P0': None, 'P': None, 'rho': None, 'D': 0, 'MFR': None, 'calculated': None, 'name': 4})\n",
      "igraph.Vertex(<igraph.Graph object at 0x0000000008A8C4F8>, 6, {'type': None, 'x': None, 'y': None, 'z': None, 'M': None, 'T0': None, 'T': None, 'P0': None, 'P': None, 'rho': None, 'D': 0, 'MFR': None, 'calculated': None, 'name': 34})\n",
      "igraph.Vertex(<igraph.Graph object at 0x0000000008A8C4F8>, 8, {'type': None, 'x': None, 'y': None, 'z': None, 'M': None, 'T0': None, 'T': None, 'P0': None, 'P': None, 'rho': None, 'D': 0, 'MFR': None, 'calculated': None, 'name': 35})\n",
      "igraph.Vertex(<igraph.Graph object at 0x0000000008A8C4F8>, 10, {'type': None, 'x': None, 'y': None, 'z': None, 'M': None, 'T0': None, 'T': None, 'P0': None, 'P': None, 'rho': None, 'D': 0, 'MFR': None, 'calculated': None, 'name': 31})\n",
      "igraph.Vertex(<igraph.Graph object at 0x0000000008A8C4F8>, 12, {'type': None, 'x': None, 'y': None, 'z': None, 'M': None, 'T0': None, 'T': None, 'P0': None, 'P': None, 'rho': None, 'D': 0, 'MFR': None, 'calculated': None, 'name': 32})\n"
     ]
    }
   ],
   "source": [
    "for i in net.t.vs.select(_indegree = 1 , _outdegree = 1):\n",
    "    print(i)"
   ]
  },
  {
   "cell_type": "code",
   "execution_count": 11,
   "metadata": {},
   "outputs": [
    {
     "data": {
      "text/plain": [
       "1"
      ]
     },
     "execution_count": 11,
     "metadata": {},
     "output_type": "execute_result"
    }
   ],
   "source": [
    "net.t.edge_connectivity(0,3)"
   ]
  },
  {
   "cell_type": "code",
   "execution_count": 12,
   "metadata": {},
   "outputs": [
    {
     "data": {
      "text/plain": [
       "[0]"
      ]
     },
     "execution_count": 12,
     "metadata": {},
     "output_type": "execute_result"
    }
   ],
   "source": [
    "nozzles = net.t.vs.select(_outdegree = 0)\n",
    "nozzles.indices\n",
    "tanks = net.t.vs.select(_indegree = 0)\n",
    "tanks.indices"
   ]
  },
  {
   "cell_type": "code",
   "execution_count": 13,
   "metadata": {},
   "outputs": [],
   "source": [
    "firstTank = net.t.farthest_points(directed=True)[0]"
   ]
  },
  {
   "cell_type": "code",
   "execution_count": 14,
   "metadata": {},
   "outputs": [],
   "source": [
    "lastNozzle = net.t.farthest_points(directed=True)[1]"
   ]
  },
  {
   "cell_type": "code",
   "execution_count": 15,
   "metadata": {},
   "outputs": [],
   "source": [
    "commonNodes = []\n",
    "for node in net.t.vs:\n",
    "    Common = True\n",
    "    for noz in nozzles.indices:\n",
    "        for tank in tanks.indices:\n",
    "            if node.index != noz:\n",
    "                if net.t.edge_connectivity(node.index,noz)== 0:\n",
    "                    Common = False\n",
    "                    break\n",
    "            if node.index != tank:\n",
    "                if net.t.edge_connectivity(tank,node.index)==0:\n",
    "                    Common = False\n",
    "                    break\n",
    "    if Common == True:\n",
    "        commonNodes.append(node.index)"
   ]
  },
  {
   "cell_type": "code",
   "execution_count": 16,
   "metadata": {},
   "outputs": [
    {
     "data": {
      "text/plain": [
       "[0, 1, 2, 3, 4]"
      ]
     },
     "execution_count": 16,
     "metadata": {},
     "output_type": "execute_result"
    }
   ],
   "source": [
    "commonNodes"
   ]
  },
  {
   "cell_type": "code",
   "execution_count": 17,
   "metadata": {},
   "outputs": [],
   "source": [
    "def assignMFR(guess):\n",
    "    for noz in nozzles.indices:\n",
    "        net.t.vs[noz]['MFR'] = guess / len(nozzles)\n"
   ]
  },
  {
   "cell_type": "code",
   "execution_count": 167,
   "metadata": {},
   "outputs": [],
   "source": [
    "if len(commonNodes)>1:\n",
    "    commonNode = commonNodes[2]\n",
    "else:\n",
    "    print(\"there should be a point between the tank and the rest of the system\")"
   ]
  },
  {
   "cell_type": "code",
   "execution_count": 168,
   "metadata": {},
   "outputs": [
    {
     "data": {
      "text/plain": [
       "2"
      ]
     },
     "execution_count": 168,
     "metadata": {},
     "output_type": "execute_result"
    }
   ],
   "source": [
    "commonNode"
   ]
  },
  {
   "cell_type": "code",
   "execution_count": 20,
   "metadata": {},
   "outputs": [
    {
     "data": {
      "text/plain": [
       "0"
      ]
     },
     "execution_count": 20,
     "metadata": {},
     "output_type": "execute_result"
    }
   ],
   "source": [
    "firstTank"
   ]
  },
  {
   "cell_type": "code",
   "execution_count": 21,
   "metadata": {},
   "outputs": [],
   "source": [
    "_dt = 0.1\n",
    "_initialBackP = 1e5\n",
    "_initialMass = 32.2\n",
    "_cylInitialTemp = 295\n",
    "_agentInitialTemp = 294\n",
    "_orificeDiam = 0.0066565\n",
    "cont = [0] * len(tanks)\n",
    "gamma = 1.4614 #from the theromo library for inergen\n",
    "R = 8.3145 #* u.joule / u.kelvin / u.mole\n",
    "MW = 0.0340669 #from the theromo library for inergen kg/mole\n",
    "cont[firstTank] = container(agentInitialTemp = _agentInitialTemp,\n",
    "             initialMass = _initialMass,\n",
    "             cylInitialTemp = _cylInitialTemp,\n",
    "             cylLength = 1.7,\n",
    "             cylDiam = 0.267,\n",
    "             nozzleDiam = _orificeDiam,\n",
    "             wallThickness = 0.005,\n",
    "             ambientTemp = 300,\n",
    "             backPressure = _initialBackP,\n",
    "             endTime = _dt,\n",
    "             numTimeSteps = 2000)\n",
    "cont[firstTank].solve()"
   ]
  },
  {
   "cell_type": "code",
   "execution_count": 22,
   "metadata": {},
   "outputs": [],
   "source": [
    "mdot0 = (cont[firstTank].ma()[0] - cont[firstTank].ma()[-1])/_dt"
   ]
  },
  {
   "cell_type": "code",
   "execution_count": 23,
   "metadata": {},
   "outputs": [
    {
     "data": {
      "text/plain": [
       "1.4180079671567825"
      ]
     },
     "execution_count": 23,
     "metadata": {},
     "output_type": "execute_result"
    }
   ],
   "source": [
    "mdot0"
   ]
  },
  {
   "cell_type": "code",
   "execution_count": 24,
   "metadata": {},
   "outputs": [
    {
     "data": {
      "text/plain": [
       "28544587.631639954"
      ]
     },
     "execution_count": 24,
     "metadata": {},
     "output_type": "execute_result"
    }
   ],
   "source": [
    "cont[firstTank].Pt()[0]"
   ]
  },
  {
   "cell_type": "code",
   "execution_count": 25,
   "metadata": {},
   "outputs": [],
   "source": [
    "#total pressure inside the tank after dt time\n",
    "P01 = cont[firstTank].Pt()[-1]"
   ]
  },
  {
   "cell_type": "code",
   "execution_count": 26,
   "metadata": {},
   "outputs": [],
   "source": [
    "#total temperature inside the tank after dt time\n",
    "T01 = cont[firstTank].Ta()[-1]"
   ]
  },
  {
   "cell_type": "code",
   "execution_count": 27,
   "metadata": {},
   "outputs": [
    {
     "name": "stdout",
     "output_type": "stream",
     "text": [
      "14699617.962553313\n"
     ]
    }
   ],
   "source": [
    "#calculating the back pressure from equation 4 page 14 (isentropic process)\n",
    "backPressure = P01 * (2/(gamma+1))**(gamma/(gamma-1))\n",
    "print(backPressure)"
   ]
  },
  {
   "cell_type": "code",
   "execution_count": 28,
   "metadata": {},
   "outputs": [
    {
     "data": {
      "text/plain": [
       "0.03951638350076971"
      ]
     },
     "execution_count": 28,
     "metadata": {},
     "output_type": "execute_result"
    }
   ],
   "source": [
    "#calculating the mach number at the beginning of the first pipe after the tank valve \n",
    "def AAstar(M):\n",
    "    val = A/Astar-1.0/M*((2.0/(gamma+1.0)*(1.0+(gamma-1.0)/2.0*M**2.0)))**((gamma+1.0)/(2.0*(gamma-1.0)))\n",
    "    return val\n",
    "    \n",
    "pipeDiam = 0.0254\n",
    "Astar = np.pi * _orificeDiam**2.0 /4.0\n",
    "A = np.pi * pipeDiam**2.0 / 4.0\n",
    "\n",
    "res = root(AAstar, 0.0001)\n",
    "M = res['x'][0]\n",
    "M"
   ]
  },
  {
   "cell_type": "code",
   "execution_count": 29,
   "metadata": {},
   "outputs": [
    {
     "data": {
      "text/plain": [
       "14716397.078356685"
      ]
     },
     "execution_count": 29,
     "metadata": {},
     "output_type": "execute_result"
    }
   ],
   "source": [
    "def P0(M,P):\n",
    "    return P*(1.0+(gamma-1.0)/2.0*M**2.0)**(gamma/(gamma-1))\n",
    "\n",
    "P02 = P0(M,backPressure)\n",
    "P02"
   ]
  },
  {
   "cell_type": "code",
   "execution_count": 30,
   "metadata": {},
   "outputs": [],
   "source": [
    "def T(T0,M):\n",
    "    return T0 / (1+(gamma-1)/2.0*M**2)\n",
    "\n",
    "T2 = T(T01,M)"
   ]
  },
  {
   "cell_type": "code",
   "execution_count": 31,
   "metadata": {},
   "outputs": [],
   "source": [
    "rho2 = backPressure / (R/MW) / T2"
   ]
  },
  {
   "cell_type": "code",
   "execution_count": 32,
   "metadata": {},
   "outputs": [],
   "source": [
    "#function to find the next tee, nozzle, tank, commonNode from a node and a pipe based on the direction of the pipe\n",
    "#if the returned degree findNext()[1] is 1:tank or nozzle, 0:commonNode, 3:tee\n",
    "def findNext(node, edge, graph, commonNode):\n",
    "    _common = commonNode\n",
    "    _edge = edge\n",
    "    _node = node\n",
    "    _nodeIDs = [node.index]\n",
    "    _graph = graph\n",
    "    if _node.index == _common:\n",
    "        return _common, 0\n",
    "    if _node.index == _edge.source:\n",
    "        #move forward in the graph until the next tee\n",
    "        _nextNodeID = _edge.target\n",
    "        _nodeIDs.append(_nextNodeID)\n",
    "        while _graph.vs[_nextNodeID].degree()==2 and _graph.vs[_nextNodeID].index != _common:\n",
    "            _nextNodeID = _graph.vs[_nextNodeID].successors()[0].index\n",
    "            _nodeIDs.append(_nextNodeID)\n",
    "            \n",
    "    elif _node.index == _edge.target:\n",
    "        #move backwards in the graph until the next tee\n",
    "        _nextNodeID = _edge.source\n",
    "        _nodeIDs.append(_nextNodeID)\n",
    "        while _graph.vs[_nextNodeID].degree()==2 and _graph.vs[_nextNodeID].index != _common:\n",
    "            _nextNodeID = _graph.vs[_nextNodeID].predecessors()[0].index\n",
    "            _nodeIDs.append(_nextNodeID)   \n",
    "    _nodeType = _graph.vs[_nextNodeID].degree()\n",
    "    if _nextNodeID == _common:\n",
    "        _nodeType = 0\n",
    "    return _nodeIDs, _nodeType"
   ]
  },
  {
   "cell_type": "code",
   "execution_count": 33,
   "metadata": {},
   "outputs": [
    {
     "name": "stdout",
     "output_type": "stream",
     "text": [
      "[4, 6, 14]\n",
      "1\n"
     ]
    }
   ],
   "source": [
    "g = net.t\n",
    "n = findNext(g.vs[4],g.es[5],g, commonNode)\n",
    "print(n[0])\n",
    "print(n[1])"
   ]
  },
  {
   "cell_type": "code",
   "execution_count": 141,
   "metadata": {},
   "outputs": [],
   "source": [
    "#function to calculate the pressure drop between two nodes (from source to target)\n",
    "#calculates all the properties on the path from the source to the target node \n",
    "#saves all the properties on the pipes and nodes. except for MFR and P0\n",
    "#there should be only one path between source and target nodes\n",
    "\n",
    "def calcNode(source, target, graph):\n",
    "    #find all the nodes between the source and the target\n",
    "    nodes = graph.get_shortest_paths(source.index, target.index,mode='ALL')\n",
    "    for i in range(0,len(nodes)-1):\n",
    "        edge = graph.es.select(_source = i, _target = i+1)\n",
    "        #if we're going in the direction of the flow, then edge['L'] is positive, otherwise we need to multiply it by (-1)\n",
    "        calcEdge = calcQ(edge['L'],...)"
   ]
  },
  {
   "cell_type": "code",
   "execution_count": 170,
   "metadata": {},
   "outputs": [
    {
     "name": "stdout",
     "output_type": "stream",
     "text": [
      "([1, 2], 0)\n"
     ]
    }
   ],
   "source": [
    "#implementation of the forward pass\n",
    "tank1 = net.t.vs[firstTank]\n",
    "tank1Valve = net.t.vs[firstTank].successors()[0]\n",
    "#set the initial guess for the mass flow rate out of the first tank\n",
    "g.es.select(_source = tank1.index, _target = tank1Valve.index)[0]['MFR'] = mdot0 #initial guess by considering a small dt for the container function\n",
    "nextEdge = g.es.select(_source = tank1Valve.index, _target = tank1Valve.successors()[0].index)\n",
    "if tank1Valve.index == commonNode:\n",
    "    #calculate the properties for the common node and store it in that node\n",
    "else:\n",
    "    nextNode = findNext(tank1Valve,nextEdge[0],g,commonNode)\n",
    "    #calculate the properties for the next node and store the properties on the next node\n",
    "    while nextNode[0][-1] != commonNode:\n",
    "        #find the oposite edge\n",
    "        #find the next tank in the oposite edge direction\n",
    "        #guess a mfr value for this tank\n",
    "        #calculate the properties until the node\n",
    "        #compare the P01 and P02 using the function ratio\n",
    "        #if dp is good then assign average p0 to the node \n",
    "        #add the mfr from both inputs to the next edge\n",
    "        #find the next node\n",
    "        #calculate the properties for the next node and store the properties on that next node except MFR and P0, MFR and P0 should be saved only on the pipes"
   ]
  },
  {
   "cell_type": "code",
   "execution_count": 184,
   "metadata": {},
   "outputs": [
    {
     "name": "stdout",
     "output_type": "stream",
     "text": [
      "([9, 8, 5], 3)\n",
      "([11, 10, 7], 3)\n",
      "([13, 12, 7], 3)\n",
      "([14, 6, 4], 3)\n"
     ]
    }
   ],
   "source": [
    "#Backward pass implementation\n",
    "g.vs[commonNode]['MFR'] = 1\n",
    "totalMFR = g.vs[commonNode]['MFR']\n",
    "nozzles = g.vs.select(_outdegree = 0)\n",
    "for i in nozzles:\n",
    "    i['MFR'] = totalMFR / len(nozzles)\n",
    "    i['calculated'] = False\n",
    "    #print(i['MFR'])\n",
    "\n",
    "for noz in nozzles:\n",
    "    if noz['calculated'] == False:\n",
    "        print(findNext(noz,g.es.select(_target = noz.index)[0],g,commonNode))\n",
    "        path = findNext(noz,g.es.select(_target = noz.index)[0],g,commonNode)\n",
    "        calcNode(g.vs[path[0][0]],g.vs[path[0][-1]],g)"
   ]
  },
  {
   "cell_type": "code",
   "execution_count": null,
   "metadata": {},
   "outputs": [],
   "source": [
    "#overall calculation until the final time\n",
    "#read the pipe network information and populate the graph\n",
    "finalTime = 120 #seconds, input from the user\n",
    "t_old = 0\n",
    "while t<finalTime\n",
    "    \n",
    "    #overall calculation for each dt (Backward + forward)\n",
    "    while g.vs[commonNode]['MFR'] == 0:\n",
    "        #use the ratio function to adjust the guess value for the firstTank\n",
    "        #do the forward pass\n",
    "        #do the backward pass\n",
    "        #if dp from the backward and forward passes are < error then assign the MFR to the common node (at this point the calculation for dt is done)\n",
    "        pass\n",
    "    #update the tanks conditions based on the calculated values of MFR and backPressure\n",
    "    t = t_old + dt"
   ]
  },
  {
   "cell_type": "code",
   "execution_count": 39,
   "metadata": {},
   "outputs": [],
   "source": [
    "C1 = 1e-5\n",
    "C2 = 1e-5\n",
    "Err = 0.1\n",
    "#Assume 50% division at every node in the beginning\n",
    "def divide(ratio2, P_01, P_02,c1,c2, error):\n",
    "    del_P = P_02-P_01\n",
    "    rat_old= ratio2\n",
    "   \n",
    "    if del_P > error:\n",
    "        rat_new = rat_old* np.exp(-c1*del_P)\n",
    "    elif del_P < -error:\n",
    "        rat_new = 1 - np.exp(c2*del_P) + rat_old*np.exp(c2*del_P)\n",
    "    \n",
    "    return rat_new\n",
    "\n",
    "#propagate mass flow rates downstream a tee\n",
    "def propagateMFR(node, edge1, edge2, graph):\n",
    "    P01 = edge1[P0i]\n",
    "    P02 = edge2[P0i]\n",
    "    MFR1 = edge1['MFR']\n",
    "    MFR2 = edge2['MFR']\n",
    "    MFR_total = MFR1 + MFR2\n",
    "    ratio = MFR2 / MFR_total\n",
    "    if np.abs(P01-P02)>Err:\n",
    "        ratio_new = divide(ratio,P01,P02,C1,C2, Err)\n",
    "        MFR1_new = (1 - ratio_new)*MFR_total \n",
    "        MFR2_new = ratio_new*MFR_total\n",
    "        \n",
    "        #distribute the MFR1_new to the downstream nozzles evenly\n",
    "        nextNodeInEdge1Direction = findNext(node,edge1,graph,commonNode)\n",
    "        if nextNodeInEdge1Direction[1] == 3:\n",
    "            allPassesFromEdge1 = g.get_all_shortest_paths(nextNodeInEdge1Direction[0][-1],net.t.vs.select(_outdegree = 0))\n",
    "            for noz in allPassesFromEdge1[][-1]:\n",
    "                g.vs[noz]['MFR'] = MFR1_new / len(allPassesFromEdge1[][-1])\n",
    "        else:\n",
    "            graph.vs[nextNodeInEdge1Direction[0][-1]]['MFR'] = MFR1_new\n",
    "           \n",
    "        #distribute the MFR2_new to the downstream nozzles evenly\n",
    "        nextNodeInEdge2Direction = findNext(node,edge2,graph,commonNode)\n",
    "        if nextNodeInEdge2Direction[1] == 3:\n",
    "            allPassesFromEdge2 = g.get_all_shortest_paths(nextNodeInEdge2Direction[0][-1],net.t.vs.select(_outdegree = 0))\n",
    "            for noz in allPassesFromEdge2[][-1]:\n",
    "                g.vs[noz]['MFR'] = MFR2_new / len(allPassesFromEdge2[][-1])\n",
    "        else:\n",
    "            graph.vs[nextNodeInEdge2Direction[0][-1]]['MFR'] = MFR2_new\n",
    "            \n",
    "        #set the 'calculated' property of all the nodes downstream the node to False    \n",
    "        for i in graph.get_all_shortest_paths(node.index,graph.vs.select(_outdegree = 0)):\n",
    "            for j in i:\n",
    "                graph.vs[j]['calculated'] = False\n",
    "                \n",
    "        #set the P0i of all the edges downstream the node to 0\n",
    "        for i in g.get_all_shortest_paths(node.index,g.vs.select(_outdegree = 0)):\n",
    "            for k in range(0,len(i)-1):\n",
    "                g.es.select(_source = i[k],_target = i[k+1])['P0i'] = 0\n",
    "    else:\n",
    "        node['calculated'] = True\n",
    "        P0 = (P01+P02)/2.0\n",
    "        node['P0']=P0\n",
    "        edge3 = graph.es.select(_source = g.vs[4].predecessors()[0].index , _target = node.index)[0]\n",
    "        previousNode = findNext(node,edge3,graph,commonNode)\n",
    "        #calculate the properties for all the nodes until the next node backwards\n",
    "        #set all the P0i for edges until the next node and set 'calculated' property of all nodes until the next node to True"
   ]
  },
  {
   "cell_type": "code",
   "execution_count": null,
   "metadata": {},
   "outputs": [],
   "source": []
  }
 ],
 "metadata": {
  "kernelspec": {
   "display_name": "Python 3",
   "language": "python",
   "name": "python3"
  },
  "language_info": {
   "codemirror_mode": {
    "name": "ipython",
    "version": 3
   },
   "file_extension": ".py",
   "mimetype": "text/x-python",
   "name": "python",
   "nbconvert_exporter": "python",
   "pygments_lexer": "ipython3",
   "version": "3.6.5"
  }
 },
 "nbformat": 4,
 "nbformat_minor": 2
}
