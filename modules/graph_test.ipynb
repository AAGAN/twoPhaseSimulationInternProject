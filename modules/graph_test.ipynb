{
 "cells": [
  {
   "cell_type": "code",
   "execution_count": 3,
   "metadata": {},
   "outputs": [],
   "source": [
    "from pipeNetwork import pipeNetwork\n",
    "from containerClass import container\n",
    "import numpy as np\n",
    "from scipy.integrate import solve_ivp\n",
    "import igraph\n",
    "from calcTw import calcTw\n",
    "from calcQ import calcQ\n",
    "from containerClass import container\n",
    "#from systemDefinitions import system,nodes,nodes1,pipeSections,pipeSections1\n",
    "from systemDefinitions import system,pipeSections,pipeSections1, pipeSections3,orificeDiam3"
   ]
  },
  {
   "cell_type": "code",
   "execution_count": 4,
   "metadata": {},
   "outputs": [],
   "source": [
    "net = pipeNetwork()"
   ]
  },
  {
   "cell_type": "code",
   "execution_count": 5,
   "metadata": {},
   "outputs": [],
   "source": [
    "net.addSystem(system)"
   ]
  },
  {
   "cell_type": "code",
   "execution_count": 6,
   "metadata": {},
   "outputs": [],
   "source": [
    "net.addAllPipes(pipeSections3, orificeDiam3)"
   ]
  },
  {
   "cell_type": "code",
   "execution_count": 7,
   "metadata": {},
   "outputs": [
    {
     "name": "stdout",
     "output_type": "stream",
     "text": [
      "IGRAPH DN-T 15 14 -- \n",
      "+ attr: agent (g), cyl_pressure (g), cyl_size (g), cyl_valve_type (g), discharge_time (g), D (v), M (v), P (v), P0 (v), T (v), T0 (v), name (v), rho (v), type (v), x (v), y (v), z (v), Cpl (e), D (e), Dtrp (e), Elb (e), H (e), L (e), Ptap (e), SV (e), Sch (e), Stee (e), Ttee (e), f (e)\n",
      "[(0, 1), (1, 2), (2, 3), (3, 4), (4, 5), (4, 6), (5, 7), (5, 8), (8, 9), (7, 10), (10, 11), (7, 12), (12, 13), (6, 14)]\n",
      "(0, 11, 8)\n",
      "1 0 1 1 0\n",
      "2 1 2 1 1\n",
      "3 2 2 1 1\n",
      "4 3 2 1 1\n",
      "5 4 3 2 1\n",
      "6 5 3 2 1\n",
      "34 6 2 1 1\n",
      "7 7 3 2 1\n",
      "35 8 2 1 1\n",
      "305 9 1 0 1\n",
      "31 10 2 1 1\n",
      "301 11 1 0 1\n",
      "32 12 2 1 1\n",
      "302 13 1 0 1\n",
      "304 14 1 0 1\n"
     ]
    }
   ],
   "source": [
    "net.topoSummary()"
   ]
  },
  {
   "cell_type": "code",
   "execution_count": 10,
   "metadata": {},
   "outputs": [
    {
     "data": {
      "text/plain": [
       "[igraph.Vertex(<igraph.Graph object at 0x0000000008A8C6D8>, 13, {'type': None, 'x': None, 'y': None, 'z': None, 'M': None, 'T0': None, 'T': None, 'P0': None, 'P': None, 'rho': None, 'D': 0.128, 'name': 302})]"
      ]
     },
     "execution_count": 10,
     "metadata": {},
     "output_type": "execute_result"
    }
   ],
   "source": [
    "net.t.vs[12].successors()"
   ]
  },
  {
   "cell_type": "code",
   "execution_count": 18,
   "metadata": {},
   "outputs": [
    {
     "name": "stdout",
     "output_type": "stream",
     "text": [
      "igraph.Vertex(<igraph.Graph object at 0x0000000008A8C6D8>, 9, {'type': 'nozzle', 'x': None, 'y': None, 'z': None, 'M': None, 'T0': None, 'T': None, 'P0': None, 'P': None, 'rho': None, 'D': 0.25, 'name': 305})\n",
      "igraph.Vertex(<igraph.Graph object at 0x0000000008A8C6D8>, 11, {'type': 'nozzle', 'x': None, 'y': None, 'z': None, 'M': None, 'T0': None, 'T': None, 'P0': None, 'P': None, 'rho': None, 'D': 0.28125, 'name': 301})\n",
      "igraph.Vertex(<igraph.Graph object at 0x0000000008A8C6D8>, 13, {'type': 'nozzle', 'x': None, 'y': None, 'z': None, 'M': None, 'T0': None, 'T': None, 'P0': None, 'P': None, 'rho': None, 'D': 0.128, 'name': 302})\n",
      "igraph.Vertex(<igraph.Graph object at 0x0000000008A8C6D8>, 14, {'type': 'nozzle', 'x': None, 'y': None, 'z': None, 'M': None, 'T0': None, 'T': None, 'P0': None, 'P': None, 'rho': None, 'D': 0.344, 'name': 304})\n"
     ]
    }
   ],
   "source": [
    "net.t.vs.select(_outdegree = 0)['type'] = 'nozzle'\n",
    "for i in net.t.vs.select(_outdegree = 0):\n",
    "    print(i)"
   ]
  },
  {
   "cell_type": "code",
   "execution_count": 21,
   "metadata": {},
   "outputs": [
    {
     "name": "stdout",
     "output_type": "stream",
     "text": [
      "igraph.Vertex(<igraph.Graph object at 0x0000000008A8C6D8>, 4, {'type': 'tee', 'x': None, 'y': None, 'z': None, 'M': None, 'T0': None, 'T': None, 'P0': None, 'P': None, 'rho': None, 'D': 0, 'name': 5})\n",
      "igraph.Vertex(<igraph.Graph object at 0x0000000008A8C6D8>, 5, {'type': 'tee', 'x': None, 'y': None, 'z': None, 'M': None, 'T0': None, 'T': None, 'P0': None, 'P': None, 'rho': None, 'D': 0, 'name': 6})\n",
      "igraph.Vertex(<igraph.Graph object at 0x0000000008A8C6D8>, 7, {'type': 'tee', 'x': None, 'y': None, 'z': None, 'M': None, 'T0': None, 'T': None, 'P0': None, 'P': None, 'rho': None, 'D': 0, 'name': 7})\n"
     ]
    }
   ],
   "source": [
    "net.t.vs.select(_outdegree = 2)['type'] = 'tee'\n",
    "for i in net.t.vs.select(_outdegree = 2):\n",
    "    print(i)"
   ]
  },
  {
   "cell_type": "code",
   "execution_count": 22,
   "metadata": {},
   "outputs": [
    {
     "name": "stdout",
     "output_type": "stream",
     "text": [
      "igraph.Vertex(<igraph.Graph object at 0x0000000008A8C6D8>, 0, {'type': 'tank', 'x': None, 'y': None, 'z': None, 'M': None, 'T0': None, 'T': None, 'P0': None, 'P': None, 'rho': None, 'D': 0, 'name': 1})\n"
     ]
    }
   ],
   "source": [
    "net.t.vs.select(_indegree = 0)['type'] = 'tank'\n",
    "for i in net.t.vs.select(_indegree = 0):\n",
    "    print(i)"
   ]
  },
  {
   "cell_type": "code",
   "execution_count": 23,
   "metadata": {},
   "outputs": [
    {
     "ename": "SyntaxError",
     "evalue": "invalid syntax (<ipython-input-23-1893832022bf>, line 1)",
     "output_type": "error",
     "traceback": [
      "\u001b[1;36m  File \u001b[1;32m\"<ipython-input-23-1893832022bf>\"\u001b[1;36m, line \u001b[1;32m1\u001b[0m\n\u001b[1;33m    for i in net.t.vs.select(_indegree = 1 and _outdegree = 1):\u001b[0m\n\u001b[1;37m                                                          ^\u001b[0m\n\u001b[1;31mSyntaxError\u001b[0m\u001b[1;31m:\u001b[0m invalid syntax\n"
     ]
    }
   ],
   "source": [
    "for i in net.t.vs.select(_indegree = 1 and _outdegree = 1):\n",
    "    print(i)"
   ]
  },
  {
   "cell_type": "code",
   "execution_count": null,
   "metadata": {},
   "outputs": [],
   "source": []
  }
 ],
 "metadata": {
  "kernelspec": {
   "display_name": "Python 3",
   "language": "python",
   "name": "python3"
  },
  "language_info": {
   "codemirror_mode": {
    "name": "ipython",
    "version": 3
   },
   "file_extension": ".py",
   "mimetype": "text/x-python",
   "name": "python",
   "nbconvert_exporter": "python",
   "pygments_lexer": "ipython3",
   "version": "3.6.5"
  }
 },
 "nbformat": 4,
 "nbformat_minor": 2
}
