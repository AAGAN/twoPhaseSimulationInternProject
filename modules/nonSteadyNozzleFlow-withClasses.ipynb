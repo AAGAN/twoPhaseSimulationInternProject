{
 "cells": [
  {
   "cell_type": "markdown",
   "metadata": {},
   "source": [
    "# Simulating the actual discharge of Inergen (Test UL1_Pre_709)"
   ]
  },
  {
   "cell_type": "code",
   "execution_count": 1,
   "metadata": {},
   "outputs": [],
   "source": [
    "import matplotlib.pyplot as plt\n",
    "from containerClass import container"
   ]
  },
  {
   "cell_type": "code",
   "execution_count": 2,
   "metadata": {},
   "outputs": [],
   "source": [
    "a = container(agentInitialTemp = 300,\n",
    "             initialMass = 32.0,\n",
    "             cylInitialTemp = 305,\n",
    "             cylLength = 1.8,\n",
    "             cylDiam = 0.3,\n",
    "             nozzleDiam = 0.008,\n",
    "             wallThickness = 0.005,\n",
    "             ambientTemp = 310,\n",
    "             backPressure = 6001325,\n",
    "             endTime = 120,\n",
    "             numTimeSteps = 2000)\n",
    "\n",
    "b = container(agentInitialTemp = 300,\n",
    "             initialMass = 32.0,\n",
    "             cylInitialTemp = 305,\n",
    "             cylLength = 1.8,\n",
    "             cylDiam = 0.3,\n",
    "             nozzleDiam = 0.004,\n",
    "             wallThickness = 0.005,\n",
    "             ambientTemp = 310,\n",
    "             backPressure = 6001325,\n",
    "             endTime = 120,\n",
    "             numTimeSteps = 2000)\n",
    "a.solve()\n",
    "b.solve()"
   ]
  },
  {
   "cell_type": "code",
   "execution_count": 3,
   "metadata": {},
   "outputs": [
    {
     "data": {
      "image/png": "[encoded data removed]",
      "text/plain": [
       "<Figure size 432x288 with 1 Axes>"
      ]
     },
     "metadata": {},
     "output_type": "display_data"
    }
   ],
   "source": [
    "plt.plot(a.t(),a.ma(), label = 'a')\n",
    "plt.plot(b.t(),b.ma(), label = 'b')\n",
    "plt.xlabel('time (s)')\n",
    "plt.ylabel('mass (kg)')\n",
    "plt.legend()\n",
    "plt.grid()\n",
    "plt.show()"
   ]
  },
  {
   "cell_type": "code",
   "execution_count": null,
   "metadata": {},
   "outputs": [],
   "source": [
    "plt.plot(a.t(),a.Ta(), label = 'a')\n",
    "plt.plot(b.t(),b.Ta(), label = 'b')\n",
    "plt.xlabel('time (s)')\n",
    "plt.ylabel('Agent Temperature (K)')\n",
    "plt.legend()\n",
    "plt.grid()\n",
    "plt.show()"
   ]
  },
  {
   "cell_type": "code",
   "execution_count": null,
   "metadata": {},
   "outputs": [],
   "source": [
    "plt.plot(a.t(),a.Tw(), label = 'a')\n",
    "plt.plot(b.t(),b.Tw(), label = 'b')\n",
    "plt.xlabel('time (s)')\n",
    "plt.ylabel('Wall Temperature (K)')\n",
    "plt.legend()\n",
    "plt.grid()\n",
    "plt.show()"
   ]
  },
  {
   "cell_type": "code",
   "execution_count": null,
   "metadata": {},
   "outputs": [],
   "source": [
    "plt.plot(a.t(),a.Me(), label = 'a')\n",
    "plt.plot(b.t(),b.Me(), label = 'b')\n",
    "plt.xlabel('time (s)')\n",
    "plt.ylabel('Exit Mach')\n",
    "plt.legend()\n",
    "plt.grid()\n",
    "plt.show()"
   ]
  },
  {
   "cell_type": "code",
   "execution_count": null,
   "metadata": {},
   "outputs": [],
   "source": [
    "plt.plot(a.t(),a.Ve(), label = 'a')\n",
    "plt.plot(b.t(),b.Ve(), label = 'b')\n",
    "plt.xlabel('time (s)')\n",
    "plt.ylabel('Exit Velocity')\n",
    "plt.legend()\n",
    "plt.grid()\n",
    "plt.show()"
   ]
  },
  {
   "cell_type": "code",
   "execution_count": null,
   "metadata": {},
   "outputs": [],
   "source": []
  }
 ],
 "metadata": {
  "kernelspec": {
   "display_name": "Python 3",
   "language": "python",
   "name": "python3"
  },
  "language_info": {
   "codemirror_mode": {
    "name": "ipython",
    "version": 3
   },
   "file_extension": ".py",
   "mimetype": "text/x-python",
   "name": "python",
   "nbconvert_exporter": "python",
   "pygments_lexer": "ipython3",
   "version": "3.6.5"
  }
 },
 "nbformat": 4,
 "nbformat_minor": 2
}
