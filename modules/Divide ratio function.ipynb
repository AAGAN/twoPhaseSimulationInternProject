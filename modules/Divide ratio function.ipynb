{
 "cells": [
  {
   "cell_type": "code",
   "execution_count": 4,
   "metadata": {},
   "outputs": [
    {
     "name": "stdout",
     "output_type": "stream",
     "text": [
      "0.36193496721438384\n"
     ]
    }
   ],
   "source": [
    "#For backward pass dividing flows at junction\n",
    "\n",
    "import numpy as np\n",
    "\n",
    "#Assume 50% division at every node in the beginning\n",
    "def divide(ratio2, P_01, P_02,c1,c2,error):\n",
    "    del_P = P_02-P_01\n",
    "    rat_old= ratio2\n",
    "   \n",
    "    if del_P > error:\n",
    "        rat_new = rat_old* np.exp(-c1*del_P)\n",
    "    elif del_P < -error:\n",
    "        rat_new = 1 - np.exp(c2*del_P) + rat_old*np.exp(c2*del_P)\n",
    "    else:\n",
    "        print ('The ratio is correct')\n",
    "        rat_new = rat_old\n",
    "    \n",
    "    return rat_new\n",
    "\n",
    "ratio2 = divide(0.4,200000,210000,1e-5,1e-5,0.01)\n",
    "print(ratio2)\n",
    "# calculate new stagnation pressure and the process continues till we get delta P very small\n",
    "ratio1 = 1 - ratio2"
   ]
  },
  {
   "cell_type": "code",
   "execution_count": null,
   "metadata": {},
   "outputs": [],
   "source": []
  }
 ],
 "metadata": {
  "kernelspec": {
   "display_name": "Python 3",
   "language": "python",
   "name": "python3"
  },
  "language_info": {
   "codemirror_mode": {
    "name": "ipython",
    "version": 3
   },
   "file_extension": ".py",
   "mimetype": "text/x-python",
   "name": "python",
   "nbconvert_exporter": "python",
   "pygments_lexer": "ipython3",
   "version": "3.6.5"
  }
 },
 "nbformat": 4,
 "nbformat_minor": 2
}
