{
 "cells": [
  {
   "cell_type": "code",
   "execution_count": 52,
   "metadata": {},
   "outputs": [],
   "source": [
    "import pint\n",
    "u = pint.UnitRegistry()\n",
    "import numpy as np\n",
    "from scipy.optimize import fsolve,root\n",
    "import matplotlib.pyplot as plt"
   ]
  },
  {
   "cell_type": "code",
   "execution_count": 5,
   "metadata": {},
   "outputs": [
    {
     "name": "stdout",
     "output_type": "stream",
     "text": [
      "1.6176377200043894\n"
     ]
    }
   ],
   "source": [
    "_B = 0.1\n",
    "_orificeDiam = 0.006 #* u.meter\n",
    "P_1=24500000 #* u.pascal\n",
    "P_2 = 4000000 #* u.pascal\n",
    "MW = 0.03406 #* u.kg / u.mole\n",
    "R = 8.3145 #* u.joule / u.kelvin / u.mole\n",
    "y=1.4\n",
    "A=np.pi / 4.0 * _orificeDiam**2\n",
    "Cd = 0.61\n",
    "T_1 = 295 #* u.kelvin\n",
    "_R = R / MW\n",
    "rho1= P_1/(_R*T_1)\n",
    "m = 0.61*(1-(0.333+1.145*(_B**2+0.7*_B**5+ 12*_B**13))*(P_1-P_2)/(y*P_1))*A*(2*rho1*(P_1-P_2))**0.5\n",
    "#print(m.to(u.kg/u.second))\n",
    "print(m)"
   ]
  },
  {
   "cell_type": "code",
   "execution_count": 11,
   "metadata": {},
   "outputs": [],
   "source": [
    "_m = 0.8\n",
    "def equation(P_2):\n",
    "    return (Cd*(1-(0.333+1.145*(_B**2+0.7*_B**5+ 12*_B**13))*(P_1-P_2)/(y*P_1))*A*(2*rho1*(P_1-P_2))**0.5-_m)\n",
    "\n",
    "_P_2= fsolve(equation, P_1-2000 , xtol=0.000001)"
   ]
  },
  {
   "cell_type": "code",
   "execution_count": 12,
   "metadata": {},
   "outputs": [
    {
     "data": {
      "text/plain": [
       "array([21111354.47890796])"
      ]
     },
     "execution_count": 12,
     "metadata": {},
     "output_type": "execute_result"
    }
   ],
   "source": [
    "_P_2"
   ]
  },
  {
   "cell_type": "code",
   "execution_count": null,
   "metadata": {},
   "outputs": [],
   "source": [
    "P2 = np.linspace(22000000,24400000, 200)"
   ]
  },
  {
   "cell_type": "code",
   "execution_count": 17,
   "metadata": {},
   "outputs": [
    {
     "data": {
      "text/html": [
       "90.25795693763476 liter"
      ],
      "text/latex": [
       "$90.25795693763476\\ \\mathrm{liter}$"
      ],
      "text/plain": [
       "90.25795693763476 <Unit('liter')>"
      ]
     },
     "execution_count": 17,
     "metadata": {},
     "output_type": "execute_result"
    }
   ],
   "source": [
    "(1.7*u.meter * (0.26 * u.meter)**2*np.pi/4.0).to(u.liters)"
   ]
  },
  {
   "cell_type": "code",
   "execution_count": 71,
   "metadata": {},
   "outputs": [
    {
     "name": "stdout",
     "output_type": "stream",
     "text": [
      "    fjac: array([[-1.]])\n",
      "     fun: array([3.55271368e-15])\n",
      " message: 'The solution converged.'\n",
      "    nfev: 9\n",
      "     qtf: array([-1.70201631e-11])\n",
      "       r: array([-2.86530219e-07])\n",
      "  status: 1\n",
      " success: True\n",
      "       x: array([19080032.32784515])\n",
      "[3.55271368e-15]\n"
     ]
    }
   ],
   "source": [
    "_orificeDiam = 0.006 #* u.meter\n",
    "p1=24500000 #* u.pascal\n",
    "MW = 0.03406 #* u.kg / u.mole\n",
    "R = 8.3145 #* u.joule / u.kelvin / u.mole\n",
    "y=1.4\n",
    "A2=np.pi / 4.0 * _orificeDiam**2\n",
    "Cd = 0.61\n",
    "T1 = 295 #* u.kelvin\n",
    "R = R / MW\n",
    "gamma = y\n",
    "mdot = 1.5 #*u.kg / u.second\n",
    "def func(p2):\n",
    "    val = mdot**2 - 2*A2**2*gamma/(gamma-1)*p1**2/R/T1*((p2/p1)**(2/gamma)-(p2/p1)**((gamma+1)/gamma))\n",
    "    return val\n",
    "\n",
    "res = root(func, 24000000)\n",
    "print(res)\n",
    "print(func(res['x']))"
   ]
  },
  {
   "cell_type": "code",
   "execution_count": 72,
   "metadata": {},
   "outputs": [
    {
     "data": {
      "image/png": "[encoded data removed]",
      "text/plain": [
       "<Figure size 432x288 with 1 Axes>"
      ]
     },
     "metadata": {},
     "output_type": "display_data"
    }
   ],
   "source": [
    "p2 = np.linspace(100,24500000,1000)\n",
    "plt.plot(p2,func(p2))\n",
    "plt.grid()\n",
    "plt.show()"
   ]
  },
  {
   "cell_type": "code",
   "execution_count": 73,
   "metadata": {},
   "outputs": [
    {
     "name": "stdout",
     "output_type": "stream",
     "text": [
      "[19080032.32784515]\n",
      "3.552713678800501e-15\n"
     ]
    }
   ],
   "source": [
    "res = fsolve(func, 24000000)\n",
    "print(res)\n",
    "print(func(res[0]))"
   ]
  },
  {
   "cell_type": "code",
   "execution_count": 87,
   "metadata": {},
   "outputs": [
    {
     "name": "stdout",
     "output_type": "stream",
     "text": [
      "    fjac: array([[-1.]])\n",
      "     fun: array([-2.22044605e-15])\n",
      " message: 'The solution converged.'\n",
      "    nfev: 27\n",
      "     qtf: array([8.92402596e-10])\n",
      "       r: array([-2.01990523])\n",
      "  status: 1\n",
      " success: True\n",
      "       x: array([0.48918473])\n",
      "1.3611111111111114\n"
     ]
    }
   ],
   "source": [
    "gamma = 1.4 \n",
    "def AAstar(M):\n",
    "    val = A/Astar-1.0/M*((2.0/(gamma+1.0)*(1.0+(gamma-1.0)/2.0*M**2.0)))**((gamma+1.0)/(2.0*(gamma-1.0)))\n",
    "    return val\n",
    "    \n",
    "_orificeDiam = 0.006\n",
    "pipeDiam = 0.007\n",
    "Astar = np.pi * _orificeDiam**2.0 /4.0\n",
    "A = np.pi * pipeDiam**2.0 / 4.0\n",
    "\n",
    "res = root(AAstar, 0.0001)\n",
    "print(res)\n",
    "print(A/Astar)"
   ]
  },
  {
   "cell_type": "code",
   "execution_count": 88,
   "metadata": {},
   "outputs": [
    {
     "data": {
      "image/png": "[encoded data removed]",
      "text/plain": [
       "<Figure size 432x288 with 1 Axes>"
      ]
     },
     "metadata": {},
     "output_type": "display_data"
    }
   ],
   "source": [
    "M = np.linspace(0.01,5,100)\n",
    "plt.plot(M,AAstar(M))\n",
    "plt.grid()\n",
    "plt.show()"
   ]
  },
  {
   "cell_type": "code",
   "execution_count": null,
   "metadata": {},
   "outputs": [],
   "source": []
  }
 ],
 "metadata": {
  "kernelspec": {
   "display_name": "Python 3",
   "language": "python",
   "name": "python3"
  },
  "language_info": {
   "codemirror_mode": {
    "name": "ipython",
    "version": 3
   },
   "file_extension": ".py",
   "mimetype": "text/x-python",
   "name": "python",
   "nbconvert_exporter": "python",
   "pygments_lexer": "ipython3",
   "version": "3.6.5"
  }
 },
 "nbformat": 4,
 "nbformat_minor": 2
}
