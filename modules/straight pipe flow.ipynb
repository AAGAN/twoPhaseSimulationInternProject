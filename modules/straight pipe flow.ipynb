{
 "cells": [
  {
   "cell_type": "markdown",
   "metadata": {},
   "source": [
    "# Implementation of Shapiro's chapter 8 section 8.9\n",
    "\n",
    "### Combined friction and heat transfer\n",
    "\n",
    "Constant Pipe Temperature"
   ]
  },
  {
   "cell_type": "code",
   "execution_count": 1,
   "metadata": {},
   "outputs": [],
   "source": []
  },
  {
   "cell_type": "code",
   "execution_count": 28,
   "metadata": {},
   "outputs": [
    {
     "name": "stderr",
     "output_type": "stream",
     "text": [
      "C:\\ProgramData\\Anaconda3\\lib\\site-packages\\ipykernel_launcher.py:29: RuntimeWarning: divide by zero encountered in log\n",
      "C:\\ProgramData\\Anaconda3\\lib\\site-packages\\ipykernel_launcher.py:36: RuntimeWarning: invalid value encountered in sqrt\n"
     ]
    },
    {
     "data": {
      "image/png": "[encoded data removed]",
      "text/plain": [
       "<Figure size 432x288 with 1 Axes>"
      ]
     },
     "metadata": {},
     "output_type": "display_data"
    }
   ],
   "source": [
    "import pint\n",
    "import numpy as np\n",
    "import matplotlib.pyplot as plt\n",
    "u = pint.UnitRegistry()\n",
    "#from scipy.integrate import solve_ivp\n",
    "cp = 1000 * u.joule / u.kilogram / u.kelvin\n",
    "k = 1.4\n",
    "f = 0.005 #friction factor\n",
    "D = 0.025 * u.meter\n",
    "M0 = 0.5\n",
    "#T0 = 350 * u.kelvin\n",
    "ReynoldAnalogy = True\n",
    "T02_T01 = 1.05\n",
    "x0 = 0 * u.meter\n",
    "Tw0_T01 = 4\n",
    "\n",
    "def F_T0(M):\n",
    "    FT0 = M**2*(1+k*M**2)*(1+(k-1)/2*M**2)/(1-M**2)\n",
    "    return FT0\n",
    "\n",
    "def F_f(M):\n",
    "    Ff = k*M**4*(1+(k-1)/2*M**2)/(1-M**2)\n",
    "    return Ff\n",
    "\n",
    "def dM2(M):\n",
    "    _x_1 = x0\n",
    "    _M_1 = M\n",
    "    if ReynoldAnalogy:\n",
    "        _x2 = D / (2 * f) * np.log((Tw0_T01-1)/(Tw0_T01-T02_T01)) + _x_1\n",
    "        _M_2 = _M_1 + 0.05\n",
    "        converged = False\n",
    "        while not converged:\n",
    "            Mbar = (_M_1+_M_2) / 2\n",
    "            Fbar_T0 = F_T0(Mbar)\n",
    "            Fbar_f = F_f(Mbar)\n",
    "            M2 = np.sqrt(_M_1 ** 2 + 2*(T02_T01-1.0)*(Fbar_T0/(T02_T01+1)+2*Fbar_f/(2*Tw0_T01-T02_T01-1)))\n",
    "            #print(M2)\n",
    "            if (np.abs(_M_2-M2)>0.0001):\n",
    "                _M_2 = M2 - 0.000001\n",
    "            else:\n",
    "                converged = True\n",
    "    return M2,_x2\n",
    "\n",
    "fxD = np.zeros((101,7))\n",
    "MM = np.zeros((101,7))\n",
    "\n",
    "M = M0\n",
    "fxD[0] = 4*f*x0/D\n",
    "MM[0] = M0\n",
    "for j in (range(6)):\n",
    "    Tw0_T01 = j+1\n",
    "    for i in range(100):\n",
    "        M, x2 = dM2(M)\n",
    "        x0 = x2\n",
    "        MM[i+1,j+1] = M\n",
    "        fxD[i+1,j+1] = 4*f*x0/D\n",
    "    plt.plot(fxD[:,j+1],MM[:,j+1])\n",
    "    \n",
    "plt.xlim(0,0.6)\n",
    "\n",
    "plt.show()\n",
    "    "
   ]
  },
  {
   "cell_type": "code",
   "execution_count": 22,
   "metadata": {},
   "outputs": [],
   "source": [
    "a = np.zeros((2,3))"
   ]
  },
  {
   "cell_type": "code",
   "execution_count": 26,
   "metadata": {},
   "outputs": [
    {
     "data": {
      "text/plain": [
       "0.0"
      ]
     },
     "execution_count": 26,
     "metadata": {},
     "output_type": "execute_result"
    }
   ],
   "source": [
    "a[0,1]"
   ]
  },
  {
   "cell_type": "code",
   "execution_count": null,
   "metadata": {},
   "outputs": [],
   "source": []
  }
 ],
 "metadata": {
  "kernelspec": {
   "display_name": "Python 3",
   "language": "python",
   "name": "python3"
  },
  "language_info": {
   "codemirror_mode": {
    "name": "ipython",
    "version": 3
   },
   "file_extension": ".py",
   "mimetype": "text/x-python",
   "name": "python",
   "nbconvert_exporter": "python",
   "pygments_lexer": "ipython3",
   "version": "3.6.5"
  }
 },
 "nbformat": 4,
 "nbformat_minor": 2
}
