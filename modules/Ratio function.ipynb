{
 "cells": [
  {
   "cell_type": "code",
   "execution_count": 4,
   "metadata": {},
   "outputs": [
    {
     "data": {
      "text/plain": [
       "0.0022103418361512956"
      ]
     },
     "execution_count": 4,
     "metadata": {},
     "output_type": "execute_result"
    }
   ],
   "source": [
    "import numpy as np\n",
    "\n",
    "def ratio(P_01, P_02, m, c): # P_01 stagnation pressure from calculations through pipe 1\n",
    "    '''\n",
    "    for the forward calculation, P01 = pressure from the initial pipe, P02 is the cacluated P0 from the new pipe, m is the MFR from the new pipe, outputs new MFR for new tank\n",
    "    for comparing forward and backward calcs, P01 = P0 from the forward pass, P02 = P0 from the backwards pass, m is the MFR from initial tank, outputs new guess value MFR1\n",
    "    '''\n",
    "    m_old=m\n",
    "    del_P= P_02-P_01\n",
    "    #c= 1e-5 Value to be decided on how fast convergence is needed\n",
    "    if del_P < 0.01: #to be decided as per requirement\n",
    "        print(\"Values calculated are correct for this time step\")\n",
    "        m_new = m_old\n",
    "        P_avg= (P_02+P_01)/2\n",
    "        return (m_new, P_avg)\n",
    "    else:\n",
    "        m_new = m_old*np.exp(c*del_P)\n",
    "        return (m_new)\n",
    "\n",
    "ratio (100000, 110000, 0.002,1e-5 )"
   ]
  },
  {
   "cell_type": "code",
   "execution_count": null,
   "metadata": {},
   "outputs": [],
   "source": []
  }
 ],
 "metadata": {
  "kernelspec": {
   "display_name": "Python 3",
   "language": "python",
   "name": "python3"
  },
  "language_info": {
   "codemirror_mode": {
    "name": "ipython",
    "version": 3
   },
   "file_extension": ".py",
   "mimetype": "text/x-python",
   "name": "python",
   "nbconvert_exporter": "python",
   "pygments_lexer": "ipython3",
   "version": "3.6.5"
  }
 },
 "nbformat": 4,
 "nbformat_minor": 2
}
