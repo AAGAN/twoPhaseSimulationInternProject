{
 "cells": [
  {
   "cell_type": "markdown",
   "metadata": {},
   "source": [
    "## For the case of constant wall temperature"
   ]
  },
  {
   "cell_type": "code",
   "execution_count": 11,
   "metadata": {
    "scrolled": false
   },
   "outputs": [
    {
     "name": "stdout",
     "output_type": "stream",
     "text": [
      "M1 = 0.2000, 4fx/D = 8.0000, Tw1/T01 = 3.0000\n"
     ]
    },
    {
     "data": {
      "image/png": "[encoded data removed]",
      "text/plain": [
       "<Figure size 432x288 with 1 Axes>"
      ]
     },
     "metadata": {},
     "output_type": "display_data"
    },
    {
     "name": "stdout",
     "output_type": "stream",
     "text": [
      "M2 =  0.9780335255310673\n",
      "T02 =  272.34730732841444\n"
     ]
    }
   ],
   "source": [
    "import numpy as np\n",
    "import matplotlib.pyplot as plt\n",
    "from scipy.integrate import solve_ivp\n",
    "\n",
    "Tw1 = 300\n",
    "ff = 0.005\n",
    "D = 0.1\n",
    "T01 = 100\n",
    "M1 = 0.2\n",
    "L = 40\n",
    "Gamma = 1.4\n",
    "numSteps = 10000\n",
    "tspan = np.linspace(0,L,numSteps)\n",
    "#print(tspan)\n",
    "print(\"M1 = {:.4f}, 4fx/D = {:.4f}, Tw1/T01 = {:.4f}\".format(M1,4*ff*L/D, Tw1/T01))\n",
    "\n",
    "def FuncT0(Msq, Gamma):\n",
    "    #Msq = M ** 2.0\n",
    "    FuncT0 = Msq*(1.0+Gamma*Msq)*(1.0+(Gamma-1.0)/2.0*Msq)/(1.0-Msq)\n",
    "    return FuncT0\n",
    "\n",
    "def FuncFf(Msq, Gamma):\n",
    "    #Msq = M ** 2.0\n",
    "    FuncFf = Gamma*Msq**2*(1.0+(Gamma-1.0)/2.0*Msq)/(1.0-Msq)\n",
    "    return FuncFf\n",
    "\n",
    "def dT0_dx(T0):\n",
    "    _dT0_dx = 2 * ff / D * (Tw1 - T0)\n",
    "    return _dT0_dx\n",
    "\n",
    "def dM2_dx(Msq, T0):\n",
    "    _dM2_dx = FuncT0(Msq, Gamma) * dT0_dx(T0) / T0 + FuncFf(Msq, Gamma) * 4.0 * ff / D\n",
    "    return _dM2_dx\n",
    "    \n",
    "def f(t,y):\n",
    "    dydt = [dM2_dx(y[0], y[1]), dT0_dx(y[1])]\n",
    "    return dydt\n",
    "\n",
    "def solve():\n",
    "    yinit = [M1 **2, T01]\n",
    "    #print(yinit)\n",
    "    soln = solve_ivp(lambda t, y: f(t, y), [tspan[0], tspan[-1]], yinit, method = 'Radau', t_eval=tspan, jac = None)\n",
    "    #print(soln.y[0])\n",
    "    return soln\n",
    "    \n",
    "solution = solve()\n",
    "plt.plot(4* ff *solution.t/D,np.sqrt(solution.y[0]))\n",
    "plt.ylabel('M2')\n",
    "plt.xlabel('$\\\\frac{4fx}{D}$')\n",
    "plt.grid()\n",
    "plt.show()\n",
    "print(\"M2 = \",np.sqrt(solution.y[0][-1]))\n",
    "print(\"T02 = \", solution.y[1][-1])"
   ]
  },
  {
   "cell_type": "markdown",
   "metadata": {},
   "source": [
    "## For the case of constant heat flux"
   ]
  },
  {
   "cell_type": "code",
   "execution_count": 12,
   "metadata": {},
   "outputs": [
    {
     "name": "stdout",
     "output_type": "stream",
     "text": [
      "M1 = 0.1000, 4fx/D = 56.0000, Tw1/T01 = 3.0000\n"
     ]
    },
    {
     "data": {
      "image/png": "[encoded data removed]",
      "text/plain": [
       "<Figure size 432x288 with 1 Axes>"
      ]
     },
     "metadata": {},
     "output_type": "display_data"
    }
   ],
   "source": [
    "import numpy as np\n",
    "import matplotlib.pyplot as plt\n",
    "from scipy.integrate import solve_ivp\n",
    "\n",
    "Tw1 = 300\n",
    "ff = 0.005\n",
    "D = 1\n",
    "T01 = 100\n",
    "M1 = 0.1\n",
    "L = 2800\n",
    "Tw_T0 = Tw1 - T01\n",
    "Gamma = 1.4\n",
    "numSteps = 100001\n",
    "tspan = np.linspace(0,L,numSteps)\n",
    "#print(tspan)\n",
    "print(\"M1 = {:.4f}, 4fx/D = {:.4f}, Tw1/T01 = {:.4f}\".format(M1,4*ff*L/D, Tw1/T01))\n",
    "\n",
    "def FuncT0(Msq, Gamma):\n",
    "    #Msq = M ** 2.0\n",
    "    FuncT0 = Msq*(1.0+Gamma*Msq)*(1.0+(Gamma-1.0)/2.0*Msq)/(1.0-Msq)\n",
    "    return FuncT0\n",
    "\n",
    "def FuncFf(Msq, Gamma):\n",
    "    #Msq = M ** 2.0\n",
    "    FuncFf = Gamma*Msq**2*(1.0+(Gamma-1.0)/2.0*Msq)/(1.0-Msq)\n",
    "    return FuncFf\n",
    "\n",
    "def dT0_dx(T0):\n",
    "    _dT0_dx = 2 * ff / D * Tw_T0 #(Tw1 - T0)\n",
    "    return _dT0_dx\n",
    "\n",
    "def dM2_dx(Msq, T0):\n",
    "    _dM2_dx = FuncT0(Msq, Gamma) * dT0_dx(T0) / T0 + FuncFf(Msq, Gamma) * 4.0 * ff / D\n",
    "    return _dM2_dx\n",
    "    \n",
    "def f(t,y):\n",
    "    dydt = [dM2_dx(y[0], y[1]), dT0_dx(y[1])]\n",
    "    return dydt\n",
    "\n",
    "def solve():\n",
    "    yinit = [M1 **2, T01]\n",
    "    #print(yinit)\n",
    "    soln = solve_ivp(lambda t, y: f(t, y), [tspan[0], tspan[-1]], yinit, method = 'Radau', jac = None)\n",
    "    #print(soln.y[0])\n",
    "    return soln\n",
    "    \n",
    "solution = solve()\n",
    "plt.plot(4* ff *solution.t/D,np.sqrt(solution.y[0]))\n",
    "plt.grid()\n",
    "plt.show()"
   ]
  },
  {
   "cell_type": "code",
   "execution_count": 13,
   "metadata": {},
   "outputs": [
    {
     "data": {
      "text/plain": [
       "46"
      ]
     },
     "execution_count": 13,
     "metadata": {},
     "output_type": "execute_result"
    }
   ],
   "source": [
    "len(solution.t)"
   ]
  },
  {
   "cell_type": "code",
   "execution_count": null,
   "metadata": {},
   "outputs": [],
   "source": []
  }
 ],
 "metadata": {
  "kernelspec": {
   "display_name": "Python 3",
   "language": "python",
   "name": "python3"
  },
  "language_info": {
   "codemirror_mode": {
    "name": "ipython",
    "version": 3
   },
   "file_extension": ".py",
   "mimetype": "text/x-python",
   "name": "python",
   "nbconvert_exporter": "python",
   "pygments_lexer": "ipython3",
   "version": "3.6.5"
  }
 },
 "nbformat": 4,
 "nbformat_minor": 2
}
