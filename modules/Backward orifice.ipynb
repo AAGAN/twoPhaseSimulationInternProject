{
 "cells": [
  {
   "cell_type": "code",
   "execution_count": 1,
   "metadata": {},
   "outputs": [],
   "source": [
    "import numpy as np\n",
    "import matplotlib.pyplot as plt\n",
    "from scipy.optimize import fsolve,root"
   ]
  },
  {
   "cell_type": "code",
   "execution_count": 2,
   "metadata": {},
   "outputs": [
    {
     "name": "stderr",
     "output_type": "stream",
     "text": [
      "C:\\ProgramData\\Anaconda3\\lib\\site-packages\\ipykernel_launcher.py:69: RuntimeWarning: invalid value encountered in sqrt\n"
     ]
    },
    {
     "ename": "TypeError",
     "evalue": "unsupported operand type(s) for ** or pow(): 'OptimizeResult' and 'int'",
     "output_type": "error",
     "traceback": [
      "\u001b[1;31m---------------------------------------------------------------------------\u001b[0m",
      "\u001b[1;31mTypeError\u001b[0m                                 Traceback (most recent call last)",
      "\u001b[1;32m<ipython-input-2-3f728ab7dc4b>\u001b[0m in \u001b[0;36m<module>\u001b[1;34m()\u001b[0m\n\u001b[0;32m     87\u001b[0m     \u001b[1;32mreturn\u001b[0m \u001b[0mT_stat\u001b[0m\u001b[1;33m\u001b[0m\u001b[0m\n\u001b[0;32m     88\u001b[0m \u001b[1;33m\u001b[0m\u001b[0m\n\u001b[1;32m---> 89\u001b[1;33m \u001b[0mmain_nozzle_backward\u001b[0m\u001b[1;33m(\u001b[0m\u001b[1;36m110000\u001b[0m\u001b[1;33m,\u001b[0m \u001b[1;36m320\u001b[0m\u001b[1;33m,\u001b[0m \u001b[1;36m0.005\u001b[0m\u001b[1;33m,\u001b[0m\u001b[1;36m0.4\u001b[0m\u001b[1;33m,\u001b[0m\u001b[1;36m0.006\u001b[0m\u001b[1;33m,\u001b[0m\u001b[1;36m0.06\u001b[0m\u001b[1;33m,\u001b[0m\u001b[1;36m1.4\u001b[0m\u001b[1;33m,\u001b[0m\u001b[1;36m0.028\u001b[0m\u001b[1;33m)\u001b[0m\u001b[1;33m\u001b[0m\u001b[0m\n\u001b[0m",
      "\u001b[1;32m<ipython-input-2-3f728ab7dc4b>\u001b[0m in \u001b[0;36mmain_nozzle_backward\u001b[1;34m(P02, T02, mdot, M, d_orifice, d_upstream_pipe, y, Mw_gas)\u001b[0m\n\u001b[0;32m     33\u001b[0m     \u001b[1;31m#method2\u001b[0m\u001b[1;33m\u001b[0m\u001b[1;33m\u001b[0m\u001b[0m\n\u001b[0;32m     34\u001b[0m     \u001b[0mT_0\u001b[0m\u001b[1;33m=\u001b[0m \u001b[0mT_02\u001b[0m\u001b[1;33m\u001b[0m\u001b[0m\n\u001b[1;32m---> 35\u001b[1;33m     \u001b[0m_P_1\u001b[0m\u001b[1;33m=\u001b[0m \u001b[0mP1backward\u001b[0m\u001b[1;33m(\u001b[0m\u001b[0m_m\u001b[0m\u001b[1;33m,\u001b[0m\u001b[0mP_2\u001b[0m\u001b[1;33m,\u001b[0m\u001b[0mA_p\u001b[0m\u001b[1;33m,\u001b[0m \u001b[0mA_o\u001b[0m\u001b[1;33m,\u001b[0m \u001b[0mT_0\u001b[0m\u001b[1;33m,\u001b[0m \u001b[0mCd\u001b[0m\u001b[1;33m,\u001b[0m \u001b[0my\u001b[0m\u001b[1;33m,\u001b[0m\u001b[0mMw_gas\u001b[0m\u001b[1;33m)\u001b[0m \u001b[1;31m# why this has 1 term less? Because the mach number is already included in T_0 calculation done prior\u001b[0m\u001b[1;33m\u001b[0m\u001b[0m\n\u001b[0m\u001b[0;32m     36\u001b[0m \u001b[1;33m\u001b[0m\u001b[0m\n\u001b[0;32m     37\u001b[0m     \u001b[1;32mif\u001b[0m \u001b[1;33m(\u001b[0m\u001b[0m_P_1\u001b[0m\u001b[1;33m<=\u001b[0m \u001b[0mP_1c\u001b[0m\u001b[1;33m)\u001b[0m\u001b[1;33m:\u001b[0m  \u001b[1;31m#Unchoked condition\u001b[0m\u001b[1;33m\u001b[0m\u001b[0m\n",
      "\u001b[1;32m<ipython-input-2-3f728ab7dc4b>\u001b[0m in \u001b[0;36mP1backward\u001b[1;34m(m, P_2, A_1, A, T_0, Cd, y, Mw_gas)\u001b[0m\n\u001b[0;32m     69\u001b[0m         \u001b[1;32mreturn\u001b[0m \u001b[1;33m(\u001b[0m\u001b[1;33m-\u001b[0m\u001b[1;33m(\u001b[0m\u001b[0m_m\u001b[0m\u001b[1;33m/\u001b[0m\u001b[1;33m(\u001b[0m\u001b[0mC_A\u001b[0m\u001b[1;33m*\u001b[0m\u001b[1;33m(\u001b[0m\u001b[1;36m2\u001b[0m\u001b[1;33m*\u001b[0m\u001b[1;33m(\u001b[0m\u001b[0mrho1\u001b[0m\u001b[1;33m**\u001b[0m\u001b[1;36m2\u001b[0m\u001b[1;33m*\u001b[0m\u001b[0m_R\u001b[0m\u001b[1;33m*\u001b[0m\u001b[0mT_0\u001b[0m\u001b[1;33m-\u001b[0m\u001b[0mG\u001b[0m\u001b[1;33m-\u001b[0m\u001b[0mrho1\u001b[0m\u001b[1;33m*\u001b[0m\u001b[0m_P_2\u001b[0m\u001b[1;33m)\u001b[0m\u001b[1;33m)\u001b[0m\u001b[1;33m**\u001b[0m\u001b[1;36m0.5\u001b[0m\u001b[1;33m)\u001b[0m\u001b[1;33m)\u001b[0m\u001b[1;33m+\u001b[0m\u001b[1;33m(\u001b[0m\u001b[1;36m1\u001b[0m\u001b[1;33m-\u001b[0m\u001b[0mD\u001b[0m\u001b[1;33m/\u001b[0m\u001b[0my\u001b[0m\u001b[1;33m*\u001b[0m\u001b[1;33m(\u001b[0m\u001b[1;36m1\u001b[0m\u001b[1;33m-\u001b[0m\u001b[0m_P_2\u001b[0m\u001b[1;33m/\u001b[0m\u001b[1;33m(\u001b[0m\u001b[0mrho1\u001b[0m\u001b[1;33m*\u001b[0m\u001b[0m_R\u001b[0m\u001b[1;33m*\u001b[0m\u001b[0mT_0\u001b[0m\u001b[1;33m-\u001b[0m\u001b[0mG\u001b[0m\u001b[1;33m/\u001b[0m\u001b[0mrho1\u001b[0m\u001b[1;33m)\u001b[0m\u001b[1;33m)\u001b[0m\u001b[1;33m)\u001b[0m\u001b[1;33m)\u001b[0m\u001b[1;33m\u001b[0m\u001b[0m\n\u001b[0;32m     70\u001b[0m     \u001b[0mrho1\u001b[0m\u001b[1;33m=\u001b[0m \u001b[0mroot\u001b[0m\u001b[1;33m(\u001b[0m\u001b[0mequation\u001b[0m\u001b[1;33m,\u001b[0m \u001b[1;36m30\u001b[0m\u001b[1;33m)\u001b[0m\u001b[1;33m\u001b[0m\u001b[0m\n\u001b[1;32m---> 71\u001b[1;33m     \u001b[0mprint\u001b[0m \u001b[1;33m(\u001b[0m\u001b[1;34m'rho1='\u001b[0m\u001b[1;33m,\u001b[0m\u001b[0mrho1\u001b[0m\u001b[1;33m,\u001b[0m\u001b[1;34m'error='\u001b[0m\u001b[1;33m,\u001b[0m \u001b[0mequation\u001b[0m\u001b[1;33m(\u001b[0m\u001b[0mrho1\u001b[0m\u001b[1;33m)\u001b[0m\u001b[1;33m)\u001b[0m\u001b[1;33m\u001b[0m\u001b[0m\n\u001b[0m\u001b[0;32m     72\u001b[0m     \u001b[1;31m#print (_P_2, equation(_P_2))\u001b[0m\u001b[1;33m\u001b[0m\u001b[1;33m\u001b[0m\u001b[0m\n\u001b[0;32m     73\u001b[0m \u001b[1;33m\u001b[0m\u001b[0m\n",
      "\u001b[1;32m<ipython-input-2-3f728ab7dc4b>\u001b[0m in \u001b[0;36mequation\u001b[1;34m(rho1)\u001b[0m\n\u001b[0;32m     67\u001b[0m     \u001b[1;32mdef\u001b[0m \u001b[0mequation\u001b[0m\u001b[1;33m(\u001b[0m\u001b[0mrho1\u001b[0m\u001b[1;33m)\u001b[0m\u001b[1;33m:\u001b[0m\u001b[1;33m\u001b[0m\u001b[0m\n\u001b[0;32m     68\u001b[0m         \u001b[1;31m#print ((2*g*(rho1**2*_R*T_0-G-rho1*P_2))**0.5) #the part under square root.\u001b[0m\u001b[1;33m\u001b[0m\u001b[1;33m\u001b[0m\u001b[0m\n\u001b[1;32m---> 69\u001b[1;33m         \u001b[1;32mreturn\u001b[0m \u001b[1;33m(\u001b[0m\u001b[1;33m-\u001b[0m\u001b[1;33m(\u001b[0m\u001b[0m_m\u001b[0m\u001b[1;33m/\u001b[0m\u001b[1;33m(\u001b[0m\u001b[0mC_A\u001b[0m\u001b[1;33m*\u001b[0m\u001b[1;33m(\u001b[0m\u001b[1;36m2\u001b[0m\u001b[1;33m*\u001b[0m\u001b[1;33m(\u001b[0m\u001b[0mrho1\u001b[0m\u001b[1;33m**\u001b[0m\u001b[1;36m2\u001b[0m\u001b[1;33m*\u001b[0m\u001b[0m_R\u001b[0m\u001b[1;33m*\u001b[0m\u001b[0mT_0\u001b[0m\u001b[1;33m-\u001b[0m\u001b[0mG\u001b[0m\u001b[1;33m-\u001b[0m\u001b[0mrho1\u001b[0m\u001b[1;33m*\u001b[0m\u001b[0m_P_2\u001b[0m\u001b[1;33m)\u001b[0m\u001b[1;33m)\u001b[0m\u001b[1;33m**\u001b[0m\u001b[1;36m0.5\u001b[0m\u001b[1;33m)\u001b[0m\u001b[1;33m)\u001b[0m\u001b[1;33m+\u001b[0m\u001b[1;33m(\u001b[0m\u001b[1;36m1\u001b[0m\u001b[1;33m-\u001b[0m\u001b[0mD\u001b[0m\u001b[1;33m/\u001b[0m\u001b[0my\u001b[0m\u001b[1;33m*\u001b[0m\u001b[1;33m(\u001b[0m\u001b[1;36m1\u001b[0m\u001b[1;33m-\u001b[0m\u001b[0m_P_2\u001b[0m\u001b[1;33m/\u001b[0m\u001b[1;33m(\u001b[0m\u001b[0mrho1\u001b[0m\u001b[1;33m*\u001b[0m\u001b[0m_R\u001b[0m\u001b[1;33m*\u001b[0m\u001b[0mT_0\u001b[0m\u001b[1;33m-\u001b[0m\u001b[0mG\u001b[0m\u001b[1;33m/\u001b[0m\u001b[0mrho1\u001b[0m\u001b[1;33m)\u001b[0m\u001b[1;33m)\u001b[0m\u001b[1;33m)\u001b[0m\u001b[1;33m)\u001b[0m\u001b[1;33m\u001b[0m\u001b[0m\n\u001b[0m\u001b[0;32m     70\u001b[0m     \u001b[0mrho1\u001b[0m\u001b[1;33m=\u001b[0m \u001b[0mroot\u001b[0m\u001b[1;33m(\u001b[0m\u001b[0mequation\u001b[0m\u001b[1;33m,\u001b[0m \u001b[1;36m30\u001b[0m\u001b[1;33m)\u001b[0m\u001b[1;33m\u001b[0m\u001b[0m\n\u001b[0;32m     71\u001b[0m     \u001b[0mprint\u001b[0m \u001b[1;33m(\u001b[0m\u001b[1;34m'rho1='\u001b[0m\u001b[1;33m,\u001b[0m\u001b[0mrho1\u001b[0m\u001b[1;33m,\u001b[0m\u001b[1;34m'error='\u001b[0m\u001b[1;33m,\u001b[0m \u001b[0mequation\u001b[0m\u001b[1;33m(\u001b[0m\u001b[0mrho1\u001b[0m\u001b[1;33m)\u001b[0m\u001b[1;33m)\u001b[0m\u001b[1;33m\u001b[0m\u001b[0m\n",
      "\u001b[1;31mTypeError\u001b[0m: unsupported operand type(s) for ** or pow(): 'OptimizeResult' and 'int'"
     ]
    }
   ],
   "source": [
    "#For Backward pass ( known parameters are mdot, M2, P02,T02)\n",
    "\n",
    "#Calculate downstream static pressure (P2)\n",
    "\n",
    "def main_nozzle_backward(P02, T02, mdot,M, d_orifice, d_upstream_pipe,y, Mw_gas):    \n",
    "    A_o= (np.pi*d_orifice**2/4) #Area of orifice\n",
    "    A_p= (np.pi*d_upstream_pipe**2/4) #Area of pipe \n",
    "\n",
    "    Cd= 0.61 #Coefficient of discharge, It will be less than 1\n",
    "    #y= 1.4  gamma value changes with the type of gas and conditions\n",
    "    #g=9.81 #gravitational constant\n",
    "    R= 8.3145\n",
    "    _Mw_gas = Mw_gas #since input in grams, if in kg remove this\n",
    "    _R=R/_Mw_gas\n",
    "    B = np.sqrt (A_o/A_p) \n",
    "    \n",
    "    P_02=P02\n",
    "    T_02=T02\n",
    "    _m=mdot\n",
    "    \n",
    "    P_2=stat_P(P_02,M,y) #these equatiions need Mach number\n",
    "    T_2=stat_T(T_02,M,y)\n",
    "\n",
    "\n",
    "    #Calculating critical upstream static pressure P_1c\n",
    "    P_2c= P_2 # according to wikipedia static pressure downstream is considered critical \n",
    "    P_1c = P_2c*(2/(y+1))**(-y/(y-1)) #critical pressure calculated for upstream (but this is consdiered as stagnation in formula)\n",
    "    #But further equations compare P_1c to static pressures, this is a confusion\n",
    "    \n",
    "    #method 1\n",
    "    #_P_1= stag_up(_m, A_p, A_o, P_2, Cd, y, M)\n",
    "    \n",
    "    #method2\n",
    "    T_0= T_02\n",
    "    _P_1= P1backward(_m,P_2,A_p, A_o, T_0, Cd, y,Mw_gas) # why this has 1 term less? Because the mach number is already included in T_0 calculation done prior\n",
    "    \n",
    "    if (_P_1<= P_1c):  #Unchoked condition\n",
    "        P_1=_P_1\n",
    "        P_01 = P_02 + P_1 - P_2\n",
    "    else:  #choked condition\n",
    "        P_1 = P_1c # or should it be directly the stagnation pressure?\n",
    "        P_01 = P_02 + P_1 - P_2\n",
    "    return [P_1,P_01]\n",
    "    \n",
    "    \n",
    "def stag_up(m, P_2, A_1, A, Cd, y, M):\n",
    "    #Unchocked upstream static pressure direct method\n",
    "    _m=m\n",
    "    rho1=_m/(A_1*M*c)\n",
    "    _B=A/A_1\n",
    "    P_1 = Symbol('P_1')\n",
    "    _P_1 =solve(Cd*(1-(0.333+1.145*(_B**2+0.7*_B**5+ 12*_B**13))*(P_1-P_2)/(y*P_1))*A*(2*rho1*(P_1-P_2))**0.5-_m, P_1)\n",
    "    return _P_1\n",
    "    \n",
    "# Calculation of unchoked upstream static pressure in terms of rho1\n",
    "\n",
    "def P1backward (m,P_2, A_1, A, T_0, Cd, y,Mw_gas): #Stagnation temperature T_0, upstream or downstream? My view: Upstream, since rho is for upstream\n",
    "    \n",
    "    R=8.3145\n",
    "    _Mw_gas=Mw_gas\n",
    "    _R=R/_Mw_gas\n",
    "    _m=m\n",
    "    _P_2=P_2\n",
    "    G = (y-1)/(2*y)*(_m/A_1)**2  # A_1 is area of upstream section\n",
    "    D = _m**2/(A_1**2*y*_R*T_0) # T_0 is stagnation pressure at inlet\n",
    "    C_A= Cd*A # where A is effective area of throttling device\n",
    "    def equation(rho1):\n",
    "        #print ((2*g*(rho1**2*_R*T_0-G-rho1*P_2))**0.5) #the part under square root.\n",
    "        return (-(_m/(C_A*(2*(rho1**2*_R*T_0-G-rho1*_P_2))**0.5))+(1-D/y*(1-_P_2/(rho1*_R*T_0-G/rho1))))\n",
    "    rho1= root(equation, 30)\n",
    "    print ('rho1=',rho1,'error=', equation(rho1))\n",
    "    #print (_P_2, equation(_P_2))\n",
    "\n",
    "    _P_1 = rho1*_R*T_0-(y-1)/(2*y)*(_m**2/A_1)*1/rho1\n",
    "    # _P_1 = rho1*_R*T_0-(y-1)/(2*g*y)*(_m**2/A_1)*1/rho1\n",
    "    print ('P1 upstream =',_P_1)\n",
    "    return _P_1\n",
    "\n",
    "def stat_P (P0, M, y):\n",
    "    P_0=P0\n",
    "    P_stat= P0/(1+(y-1)/2*M**2)**(y/(y-1))\n",
    "    return P_stat\n",
    "\n",
    "def stat_T(T0, M, y):\n",
    "    T_0=T0\n",
    "    T_stat= T_0/(1+(y-1)/2 *M**2)\n",
    "    return T_stat\n",
    "\n",
    "main_nozzle_backward(110000, 320, 0.005,0.4,0.006,0.06,1.4,0.028)"
   ]
  },
  {
   "cell_type": "code",
   "execution_count": 3,
   "metadata": {},
   "outputs": [],
   "source": [
    "R=8.3145\n",
    "_Mw_gas=0.028\n",
    "_R=R/_Mw_gas\n",
    "_m=0.005\n",
    "_P_2=110000\n",
    "y=1.4\n",
    "A = np.pi * 0.006**2/4.0\n",
    "A_1 = np.pi * 0.025**2/4.0\n",
    "T_0 = 320\n",
    "Cd = 0.6\n",
    "G = (y-1)/(2*y)*(_m/A_1)**2  # A_1 is area of upstream section\n",
    "D = _m**2/(A_1**2*y*_R*T_0) # T_0 is stagnation pressure at inlet\n",
    "C_A= Cd*A # where A is effective area of throttling device\n",
    "def equation(rho1):\n",
    "    #print ((2*g*(rho1**2*_R*T_0-G-rho1*P_2))**0.5) #the part under square root.\n",
    "    return (-(_m/(C_A*(2*(rho1**2*_R*T_0-G-rho1*_P_2))**0.5))+(1-D/y*(1-_P_2/(rho1*_R*T_0-G/rho1))))#,(2*(rho1**2*_R*T_0-G-rho1*_P_2))"
   ]
  },
  {
   "cell_type": "code",
   "execution_count": 4,
   "metadata": {},
   "outputs": [
    {
     "data": {
      "text/plain": [
       "(14.821841721393405, 0.0007799092853580632)"
      ]
     },
     "execution_count": 4,
     "metadata": {},
     "output_type": "execute_result"
    }
   ],
   "source": [
    "G,D"
   ]
  },
  {
   "cell_type": "code",
   "execution_count": 5,
   "metadata": {},
   "outputs": [
    {
     "name": "stderr",
     "output_type": "stream",
     "text": [
      "C:\\ProgramData\\Anaconda3\\lib\\site-packages\\ipykernel_launcher.py:16: RuntimeWarning: invalid value encountered in sqrt\n",
      "  app.launch_new_instance()\n"
     ]
    },
    {
     "data": {
      "image/png": "[encoded data removed]",
      "text/plain": [
       "<Figure size 432x288 with 1 Axes>"
      ]
     },
     "metadata": {},
     "output_type": "display_data"
    },
    {
     "data": {
      "text/plain": [
       "0.9764806532818413"
      ]
     },
     "execution_count": 5,
     "metadata": {},
     "output_type": "execute_result"
    }
   ],
   "source": [
    "rho = np.linspace(-2,2,100)\n",
    "plt.plot(rho,equation(rho))\n",
    "plt.show()\n",
    "equation(30)"
   ]
  },
  {
   "cell_type": "code",
   "execution_count": 16,
   "metadata": {},
   "outputs": [
    {
     "name": "stdout",
     "output_type": "stream",
     "text": [
      "1.468957048024211\n"
     ]
    }
   ],
   "source": [
    "initialVal = 20\n",
    "a = root(equation,initialVal,method='krylov')\n",
    "while a['x']<0 or a['success']==False:\n",
    "    initialVal = initialVal + 1\n",
    "    a = root(equation,10,method='krylov')\n",
    "print(a['x'])"
   ]
  },
  {
   "cell_type": "code",
   "execution_count": 15,
   "metadata": {},
   "outputs": [
    {
     "name": "stderr",
     "output_type": "stream",
     "text": [
      "C:\\ProgramData\\Anaconda3\\lib\\site-packages\\ipykernel_launcher.py:16: RuntimeWarning: invalid value encountered in double_scalars\n",
      "  app.launch_new_instance()\n"
     ]
    },
    {
     "data": {
      "text/plain": [
       "     fun: array([0.47887367])\n",
       " message: 'The maximum number of iterations allowed has been reached.'\n",
       "     nit: 200\n",
       "  status: 2\n",
       " success: False\n",
       "       x: array(2.)"
      ]
     },
     "execution_count": 15,
     "metadata": {},
     "output_type": "execute_result"
    }
   ],
   "source": [
    "root(equation,2,method='krylov')"
   ]
  },
  {
   "cell_type": "code",
   "execution_count": null,
   "metadata": {},
   "outputs": [],
   "source": []
  }
 ],
 "metadata": {
  "kernelspec": {
   "display_name": "Python 3",
   "language": "python",
   "name": "python3"
  },
  "language_info": {
   "codemirror_mode": {
    "name": "ipython",
    "version": 3
   },
   "file_extension": ".py",
   "mimetype": "text/x-python",
   "name": "python",
   "nbconvert_exporter": "python",
   "pygments_lexer": "ipython3",
   "version": "3.6.5"
  }
 },
 "nbformat": 4,
 "nbformat_minor": 2
}
